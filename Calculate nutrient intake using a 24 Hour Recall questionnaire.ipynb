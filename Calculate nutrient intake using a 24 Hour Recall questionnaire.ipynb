{
 "cells": [
  {
   "cell_type": "code",
   "execution_count": 530,
   "id": "929b1728",
   "metadata": {},
   "outputs": [],
   "source": [
    "import pandas as pd\n",
    "import numpy as np\n",
    "import matplotlib.pyplot as plt\n",
    "import seaborn as sns\n",
    "import scipy.stats as stats\n",
    "from scipy.stats import shapiro\n",
    "from numpy.random import randn\n",
    "plt.rcParams[\"font.family\"] = \"Times New Roman\"\n",
    "from pylab import savefig"
   ]
  },
  {
   "cell_type": "code",
   "execution_count": null,
   "id": "da53e581",
   "metadata": {},
   "outputs": [],
   "source": []
  },
  {
   "cell_type": "code",
   "execution_count": null,
   "id": "852a18cc",
   "metadata": {},
   "outputs": [],
   "source": []
  },
  {
   "cell_type": "code",
   "execution_count": 531,
   "id": "680f5131",
   "metadata": {},
   "outputs": [],
   "source": [
    "data = pd.read_csv('/Users/sedastepanyan/Downloads/20-01-2023_11-56-18/TDS DB MD All BMI.csv', header=0)\n",
    "#data = pd.read_csv('C:/Users/User/Desktop/Seda/Our Articles/Nutrient Intake Article 24HR/Database/TDS DB MD All BMI.csv', header=0)\n",
    "#, usecols = ['EnergyAll','CarbohydrateAll', 'ProteinAll', 'TotalFatsAll']"
   ]
  },
  {
   "cell_type": "code",
   "execution_count": 532,
   "id": "4e6d1f20",
   "metadata": {
    "scrolled": true
   },
   "outputs": [
    {
     "data": {
      "text/html": [
       "<div>\n",
       "<style scoped>\n",
       "    .dataframe tbody tr th:only-of-type {\n",
       "        vertical-align: middle;\n",
       "    }\n",
       "\n",
       "    .dataframe tbody tr th {\n",
       "        vertical-align: top;\n",
       "    }\n",
       "\n",
       "    .dataframe thead th {\n",
       "        text-align: right;\n",
       "    }\n",
       "</style>\n",
       "<table border=\"1\" class=\"dataframe\">\n",
       "  <thead>\n",
       "    <tr style=\"text-align: right;\">\n",
       "      <th></th>\n",
       "      <th>N</th>\n",
       "      <th>Q1</th>\n",
       "      <th>District</th>\n",
       "      <th>Region</th>\n",
       "      <th>UrbanRural</th>\n",
       "      <th>YearOfBirth</th>\n",
       "      <th>Gender</th>\n",
       "      <th>Height</th>\n",
       "      <th>Weight</th>\n",
       "      <th>Education</th>\n",
       "      <th>...</th>\n",
       "      <th>n22301_TotalFats</th>\n",
       "      <th>n22303_TotalFats</th>\n",
       "      <th>n22304_TotalFats</th>\n",
       "      <th>n22305_TotalFats</th>\n",
       "      <th>EnergyAll</th>\n",
       "      <th>CarbohydrateAll</th>\n",
       "      <th>ProteinAll</th>\n",
       "      <th>TotalFatsAll</th>\n",
       "      <th>BMI</th>\n",
       "      <th>BMIGroups</th>\n",
       "    </tr>\n",
       "  </thead>\n",
       "  <tbody>\n",
       "    <tr>\n",
       "      <th>0</th>\n",
       "      <td>1</td>\n",
       "      <td>Yes</td>\n",
       "      <td>Shengavit</td>\n",
       "      <td>Yerevan</td>\n",
       "      <td>Yerevan</td>\n",
       "      <td>1973</td>\n",
       "      <td>Female</td>\n",
       "      <td>175</td>\n",
       "      <td>95</td>\n",
       "      <td>Higher education</td>\n",
       "      <td>...</td>\n",
       "      <td></td>\n",
       "      <td></td>\n",
       "      <td></td>\n",
       "      <td></td>\n",
       "      <td>1701.3478</td>\n",
       "      <td>214.31764</td>\n",
       "      <td>42.72178</td>\n",
       "      <td>73.57452</td>\n",
       "      <td>31.0204081632653</td>\n",
       "      <td>Obese</td>\n",
       "    </tr>\n",
       "    <tr>\n",
       "      <th>1</th>\n",
       "      <td>2</td>\n",
       "      <td>Yes</td>\n",
       "      <td>Erebuni</td>\n",
       "      <td>Yerevan</td>\n",
       "      <td>Yerevan</td>\n",
       "      <td>1987</td>\n",
       "      <td>Male</td>\n",
       "      <td>168</td>\n",
       "      <td>77</td>\n",
       "      <td>Higher education</td>\n",
       "      <td>...</td>\n",
       "      <td></td>\n",
       "      <td></td>\n",
       "      <td></td>\n",
       "      <td></td>\n",
       "      <td>1088.5750</td>\n",
       "      <td>151.87200</td>\n",
       "      <td>54.87300</td>\n",
       "      <td>27.89350</td>\n",
       "      <td>27.281746031746</td>\n",
       "      <td>Overweight</td>\n",
       "    </tr>\n",
       "    <tr>\n",
       "      <th>2</th>\n",
       "      <td>3</td>\n",
       "      <td>Yes</td>\n",
       "      <td>Achapnyak</td>\n",
       "      <td>Yerevan</td>\n",
       "      <td>Yerevan</td>\n",
       "      <td>1979</td>\n",
       "      <td>Female</td>\n",
       "      <td>156</td>\n",
       "      <td>72</td>\n",
       "      <td>Higher education</td>\n",
       "      <td>...</td>\n",
       "      <td></td>\n",
       "      <td></td>\n",
       "      <td></td>\n",
       "      <td></td>\n",
       "      <td>1256.6700</td>\n",
       "      <td>129.11900</td>\n",
       "      <td>28.27200</td>\n",
       "      <td>68.13200</td>\n",
       "      <td>29.585798816568</td>\n",
       "      <td>Overweight</td>\n",
       "    </tr>\n",
       "    <tr>\n",
       "      <th>3</th>\n",
       "      <td>4</td>\n",
       "      <td>Yes</td>\n",
       "      <td>Nor Nork</td>\n",
       "      <td>Yerevan</td>\n",
       "      <td>Yerevan</td>\n",
       "      <td>1977</td>\n",
       "      <td>Female</td>\n",
       "      <td>173</td>\n",
       "      <td>78</td>\n",
       "      <td>Higher education</td>\n",
       "      <td>...</td>\n",
       "      <td></td>\n",
       "      <td></td>\n",
       "      <td></td>\n",
       "      <td></td>\n",
       "      <td>1657.1200</td>\n",
       "      <td>154.41600</td>\n",
       "      <td>57.34350</td>\n",
       "      <td>88.43500</td>\n",
       "      <td>26.0616793076949</td>\n",
       "      <td>Overweight</td>\n",
       "    </tr>\n",
       "    <tr>\n",
       "      <th>4</th>\n",
       "      <td>5</td>\n",
       "      <td>Yes</td>\n",
       "      <td>Qanaqer-Zeytun</td>\n",
       "      <td>Yerevan</td>\n",
       "      <td>Yerevan</td>\n",
       "      <td>1984</td>\n",
       "      <td>Female</td>\n",
       "      <td>163</td>\n",
       "      <td>58</td>\n",
       "      <td>Higher education</td>\n",
       "      <td>...</td>\n",
       "      <td></td>\n",
       "      <td></td>\n",
       "      <td></td>\n",
       "      <td></td>\n",
       "      <td>164.0230</td>\n",
       "      <td>21.98200</td>\n",
       "      <td>9.71590</td>\n",
       "      <td>4.07920</td>\n",
       "      <td>21.8299521999323</td>\n",
       "      <td>Normal</td>\n",
       "    </tr>\n",
       "  </tbody>\n",
       "</table>\n",
       "<p>5 rows × 937 columns</p>\n",
       "</div>"
      ],
      "text/plain": [
       "   N   Q1        District   Region UrbanRural  YearOfBirth  Gender Height  \\\n",
       "0  1  Yes       Shengavit  Yerevan    Yerevan         1973  Female    175   \n",
       "1  2  Yes         Erebuni  Yerevan    Yerevan         1987    Male    168   \n",
       "2  3  Yes       Achapnyak  Yerevan    Yerevan         1979  Female    156   \n",
       "3  4  Yes        Nor Nork  Yerevan    Yerevan         1977  Female    173   \n",
       "4  5  Yes  Qanaqer-Zeytun  Yerevan    Yerevan         1984  Female    163   \n",
       "\n",
       "  Weight         Education  ... n22301_TotalFats n22303_TotalFats  \\\n",
       "0     95  Higher education  ...                                     \n",
       "1     77  Higher education  ...                                     \n",
       "2     72  Higher education  ...                                     \n",
       "3     78  Higher education  ...                                     \n",
       "4     58  Higher education  ...                                     \n",
       "\n",
       "  n22304_TotalFats n22305_TotalFats  EnergyAll CarbohydrateAll ProteinAll  \\\n",
       "0                                    1701.3478       214.31764   42.72178   \n",
       "1                                    1088.5750       151.87200   54.87300   \n",
       "2                                    1256.6700       129.11900   28.27200   \n",
       "3                                    1657.1200       154.41600   57.34350   \n",
       "4                                     164.0230        21.98200    9.71590   \n",
       "\n",
       "  TotalFatsAll               BMI   BMIGroups  \n",
       "0     73.57452  31.0204081632653       Obese  \n",
       "1     27.89350   27.281746031746  Overweight  \n",
       "2     68.13200   29.585798816568  Overweight  \n",
       "3     88.43500  26.0616793076949  Overweight  \n",
       "4      4.07920  21.8299521999323      Normal  \n",
       "\n",
       "[5 rows x 937 columns]"
      ]
     },
     "execution_count": 532,
     "metadata": {},
     "output_type": "execute_result"
    }
   ],
   "source": [
    "data.head()"
   ]
  },
  {
   "cell_type": "code",
   "execution_count": 533,
   "id": "8ae848ea",
   "metadata": {},
   "outputs": [
    {
     "data": {
      "text/plain": [
       "(1400, 937)"
      ]
     },
     "execution_count": 533,
     "metadata": {},
     "output_type": "execute_result"
    }
   ],
   "source": [
    "data.shape"
   ]
  },
  {
   "cell_type": "code",
   "execution_count": 534,
   "id": "c3446634",
   "metadata": {},
   "outputs": [
    {
     "data": {
      "text/plain": [
       "N                    int64\n",
       "Q1                  object\n",
       "District            object\n",
       "Region              object\n",
       "UrbanRural          object\n",
       "                    ...   \n",
       "CarbohydrateAll    float64\n",
       "ProteinAll         float64\n",
       "TotalFatsAll       float64\n",
       "BMI                 object\n",
       "BMIGroups           object\n",
       "Length: 937, dtype: object"
      ]
     },
     "execution_count": 534,
     "metadata": {},
     "output_type": "execute_result"
    }
   ],
   "source": [
    "data.dtypes"
   ]
  },
  {
   "cell_type": "code",
   "execution_count": 535,
   "id": "1d81ed97",
   "metadata": {},
   "outputs": [],
   "source": [
    "data['EnergyAll']=pd.to_numeric(data['EnergyAll'], errors='coerce')\n",
    "data['BMI']=pd.to_numeric(data['BMI'], errors='coerce')\n"
   ]
  },
  {
   "cell_type": "code",
   "execution_count": 536,
   "id": "1b7bc462",
   "metadata": {},
   "outputs": [
    {
     "data": {
      "text/plain": [
       "N                    int64\n",
       "Q1                  object\n",
       "District            object\n",
       "Region              object\n",
       "UrbanRural          object\n",
       "                    ...   \n",
       "CarbohydrateAll    float64\n",
       "ProteinAll         float64\n",
       "TotalFatsAll       float64\n",
       "BMI                float64\n",
       "BMIGroups           object\n",
       "Length: 937, dtype: object"
      ]
     },
     "execution_count": 536,
     "metadata": {},
     "output_type": "execute_result"
    }
   ],
   "source": [
    "data.dtypes"
   ]
  },
  {
   "cell_type": "code",
   "execution_count": 537,
   "id": "13bb66ce",
   "metadata": {},
   "outputs": [
    {
     "data": {
      "text/html": [
       "<div>\n",
       "<style scoped>\n",
       "    .dataframe tbody tr th:only-of-type {\n",
       "        vertical-align: middle;\n",
       "    }\n",
       "\n",
       "    .dataframe tbody tr th {\n",
       "        vertical-align: top;\n",
       "    }\n",
       "\n",
       "    .dataframe thead th {\n",
       "        text-align: right;\n",
       "    }\n",
       "</style>\n",
       "<table border=\"1\" class=\"dataframe\">\n",
       "  <thead>\n",
       "    <tr style=\"text-align: right;\">\n",
       "      <th></th>\n",
       "      <th>N</th>\n",
       "      <th>YearOfBirth</th>\n",
       "      <th>n203_Energy</th>\n",
       "      <th>EnergyAll</th>\n",
       "      <th>CarbohydrateAll</th>\n",
       "      <th>ProteinAll</th>\n",
       "      <th>TotalFatsAll</th>\n",
       "      <th>BMI</th>\n",
       "    </tr>\n",
       "  </thead>\n",
       "  <tbody>\n",
       "    <tr>\n",
       "      <th>count</th>\n",
       "      <td>1400.0000</td>\n",
       "      <td>1400.000000</td>\n",
       "      <td>1400.000000</td>\n",
       "      <td>1400.000000</td>\n",
       "      <td>1400.000000</td>\n",
       "      <td>1400.000000</td>\n",
       "      <td>1400.000000</td>\n",
       "      <td>1384.000000</td>\n",
       "    </tr>\n",
       "    <tr>\n",
       "      <th>mean</th>\n",
       "      <td>700.5000</td>\n",
       "      <td>1976.284286</td>\n",
       "      <td>5.502857</td>\n",
       "      <td>1915.867327</td>\n",
       "      <td>227.855311</td>\n",
       "      <td>82.398554</td>\n",
       "      <td>77.678786</td>\n",
       "      <td>25.141194</td>\n",
       "    </tr>\n",
       "    <tr>\n",
       "      <th>std</th>\n",
       "      <td>404.2895</td>\n",
       "      <td>17.122334</td>\n",
       "      <td>28.605197</td>\n",
       "      <td>1063.016864</td>\n",
       "      <td>127.551091</td>\n",
       "      <td>63.536615</td>\n",
       "      <td>55.873540</td>\n",
       "      <td>4.555176</td>\n",
       "    </tr>\n",
       "    <tr>\n",
       "      <th>min</th>\n",
       "      <td>1.0000</td>\n",
       "      <td>1928.000000</td>\n",
       "      <td>0.000000</td>\n",
       "      <td>33.320000</td>\n",
       "      <td>2.283000</td>\n",
       "      <td>2.150000</td>\n",
       "      <td>0.392000</td>\n",
       "      <td>14.197531</td>\n",
       "    </tr>\n",
       "    <tr>\n",
       "      <th>25%</th>\n",
       "      <td>350.7500</td>\n",
       "      <td>1963.000000</td>\n",
       "      <td>0.000000</td>\n",
       "      <td>1217.173575</td>\n",
       "      <td>139.627697</td>\n",
       "      <td>43.320880</td>\n",
       "      <td>38.834125</td>\n",
       "      <td>21.799308</td>\n",
       "    </tr>\n",
       "    <tr>\n",
       "      <th>50%</th>\n",
       "      <td>700.5000</td>\n",
       "      <td>1979.000000</td>\n",
       "      <td>0.000000</td>\n",
       "      <td>1738.171950</td>\n",
       "      <td>203.767500</td>\n",
       "      <td>69.475324</td>\n",
       "      <td>69.008840</td>\n",
       "      <td>24.816327</td>\n",
       "    </tr>\n",
       "    <tr>\n",
       "      <th>75%</th>\n",
       "      <td>1050.2500</td>\n",
       "      <td>1991.000000</td>\n",
       "      <td>0.000000</td>\n",
       "      <td>2433.311710</td>\n",
       "      <td>293.347255</td>\n",
       "      <td>104.257830</td>\n",
       "      <td>103.739860</td>\n",
       "      <td>27.915519</td>\n",
       "    </tr>\n",
       "    <tr>\n",
       "      <th>max</th>\n",
       "      <td>1400.0000</td>\n",
       "      <td>2003.000000</td>\n",
       "      <td>288.000000</td>\n",
       "      <td>16090.180000</td>\n",
       "      <td>852.582000</td>\n",
       "      <td>947.037770</td>\n",
       "      <td>1010.320000</td>\n",
       "      <td>46.020761</td>\n",
       "    </tr>\n",
       "  </tbody>\n",
       "</table>\n",
       "</div>"
      ],
      "text/plain": [
       "               N  YearOfBirth  n203_Energy     EnergyAll  CarbohydrateAll  \\\n",
       "count  1400.0000  1400.000000  1400.000000   1400.000000      1400.000000   \n",
       "mean    700.5000  1976.284286     5.502857   1915.867327       227.855311   \n",
       "std     404.2895    17.122334    28.605197   1063.016864       127.551091   \n",
       "min       1.0000  1928.000000     0.000000     33.320000         2.283000   \n",
       "25%     350.7500  1963.000000     0.000000   1217.173575       139.627697   \n",
       "50%     700.5000  1979.000000     0.000000   1738.171950       203.767500   \n",
       "75%    1050.2500  1991.000000     0.000000   2433.311710       293.347255   \n",
       "max    1400.0000  2003.000000   288.000000  16090.180000       852.582000   \n",
       "\n",
       "        ProteinAll  TotalFatsAll          BMI  \n",
       "count  1400.000000   1400.000000  1384.000000  \n",
       "mean     82.398554     77.678786    25.141194  \n",
       "std      63.536615     55.873540     4.555176  \n",
       "min       2.150000      0.392000    14.197531  \n",
       "25%      43.320880     38.834125    21.799308  \n",
       "50%      69.475324     69.008840    24.816327  \n",
       "75%     104.257830    103.739860    27.915519  \n",
       "max     947.037770   1010.320000    46.020761  "
      ]
     },
     "execution_count": 537,
     "metadata": {},
     "output_type": "execute_result"
    }
   ],
   "source": [
    "data.describe()"
   ]
  },
  {
   "cell_type": "code",
   "execution_count": 538,
   "id": "380ba371",
   "metadata": {},
   "outputs": [
    {
     "data": {
      "text/plain": [
       "<AxesSubplot:ylabel='EnergyAll'>"
      ]
     },
     "execution_count": 538,
     "metadata": {},
     "output_type": "execute_result"
    },
    {
     "data": {
      "image/png": "[encoded data removed]",
      "text/plain": [
       "<Figure size 432x288 with 1 Axes>"
      ]
     },
     "metadata": {
      "needs_background": "light"
     },
     "output_type": "display_data"
    }
   ],
   "source": [
    "sns.boxplot(y=data['EnergyAll'])\n",
    "#data.boxplot('EnergyAll')\n"
   ]
  },
  {
   "cell_type": "code",
   "execution_count": 539,
   "id": "7702a8ef",
   "metadata": {},
   "outputs": [
    {
     "data": {
      "text/plain": [
       "<AxesSubplot:ylabel='CarbohydrateAll'>"
      ]
     },
     "execution_count": 539,
     "metadata": {},
     "output_type": "execute_result"
    },
    {
     "data": {
      "image/png": "[encoded data removed]",
      "text/plain": [
       "<Figure size 432x288 with 1 Axes>"
      ]
     },
     "metadata": {
      "needs_background": "light"
     },
     "output_type": "display_data"
    }
   ],
   "source": [
    "sns.boxplot(y=data['CarbohydrateAll'])\n",
    "#data.boxplot('CarbohydrateAll')"
   ]
  },
  {
   "cell_type": "code",
   "execution_count": 540,
   "id": "5e301725",
   "metadata": {},
   "outputs": [
    {
     "data": {
      "text/plain": [
       "<AxesSubplot:ylabel='ProteinAll'>"
      ]
     },
     "execution_count": 540,
     "metadata": {},
     "output_type": "execute_result"
    },
    {
     "data": {
      "image/png": "[encoded data removed]",
      "text/plain": [
       "<Figure size 432x288 with 1 Axes>"
      ]
     },
     "metadata": {
      "needs_background": "light"
     },
     "output_type": "display_data"
    }
   ],
   "source": [
    "sns.boxplot(y=data['ProteinAll'])\n",
    "#data.boxplot('ProteinAll')"
   ]
  },
  {
   "cell_type": "code",
   "execution_count": 541,
   "id": "be87b9d1",
   "metadata": {},
   "outputs": [
    {
     "data": {
      "text/plain": [
       "<AxesSubplot:ylabel='TotalFatsAll'>"
      ]
     },
     "execution_count": 541,
     "metadata": {},
     "output_type": "execute_result"
    },
    {
     "data": {
      "image/png": "[encoded data removed]",
      "text/plain": [
       "<Figure size 432x288 with 1 Axes>"
      ]
     },
     "metadata": {
      "needs_background": "light"
     },
     "output_type": "display_data"
    }
   ],
   "source": [
    "sns.boxplot(y=data['TotalFatsAll'])\n",
    "#data.boxplot('TotalFatsAll')"
   ]
  },
  {
   "cell_type": "code",
   "execution_count": 542,
   "id": "f26724c8",
   "metadata": {},
   "outputs": [
    {
     "data": {
      "text/plain": [
       "<AxesSubplot:ylabel='BMI'>"
      ]
     },
     "execution_count": 542,
     "metadata": {},
     "output_type": "execute_result"
    },
    {
     "data": {
      "image/png": "[encoded data removed]",
      "text/plain": [
       "<Figure size 432x288 with 1 Axes>"
      ]
     },
     "metadata": {
      "needs_background": "light"
     },
     "output_type": "display_data"
    }
   ],
   "source": [
    "sns.boxplot(y=data['BMI'])\n",
    "#data.boxplot('BMI')"
   ]
  },
  {
   "cell_type": "code",
   "execution_count": 543,
   "id": "f33db24a",
   "metadata": {},
   "outputs": [],
   "source": [
    "#shapiro(data['CarbohydrateAll'])"
   ]
  },
  {
   "cell_type": "code",
   "execution_count": 544,
   "id": "32f31096",
   "metadata": {},
   "outputs": [
    {
     "data": {
      "text/plain": [
       "count     1400\n",
       "unique      13\n",
       "top           \n",
       "freq      1100\n",
       "Name: n101_Energy, dtype: object"
      ]
     },
     "execution_count": 544,
     "metadata": {},
     "output_type": "execute_result"
    }
   ],
   "source": [
    "data['n101_Energy'].describe()"
   ]
  },
  {
   "cell_type": "code",
   "execution_count": 545,
   "id": "eef14746",
   "metadata": {},
   "outputs": [
    {
     "data": {
      "text/plain": [
       "count    1400.000000\n",
       "mean        5.502857\n",
       "std        28.605197\n",
       "min         0.000000\n",
       "25%         0.000000\n",
       "50%         0.000000\n",
       "75%         0.000000\n",
       "max       288.000000\n",
       "Name: n203_Energy, dtype: float64"
      ]
     },
     "execution_count": 545,
     "metadata": {},
     "output_type": "execute_result"
    }
   ],
   "source": [
    "data['n203_Energy'].describe()"
   ]
  },
  {
   "cell_type": "code",
   "execution_count": null,
   "id": "b2e65dea",
   "metadata": {},
   "outputs": [],
   "source": []
  },
  {
   "cell_type": "markdown",
   "id": "0a8b5cf7",
   "metadata": {},
   "source": [
    "# IQR"
   ]
  },
  {
   "cell_type": "code",
   "execution_count": 546,
   "id": "f5206fea",
   "metadata": {},
   "outputs": [],
   "source": [
    "def outliers(df, ft):\n",
    "    Q1 = df[ft].quantile(0.25)\n",
    "    Q3 = df[ft].quantile(0.75)\n",
    "    IQR = Q3-Q1\n",
    "    \n",
    "    lower_bound = Q1 - 1.5 * IQR \n",
    "    upper_bound = Q3 + 1.5 * IQR \n",
    "    \n",
    "    ls = df.index[ (df[ft] < lower_bound) | (df[ft] > upper_bound) ]\n",
    "    \n",
    "    return ls"
   ]
  },
  {
   "cell_type": "code",
   "execution_count": 547,
   "id": "422366df",
   "metadata": {},
   "outputs": [],
   "source": [
    "index_list = []\n",
    "\n",
    "for feature in ['CarbohydrateAll', 'ProteinAll', 'TotalFatsAll']:\n",
    "    index_list.extend(outliers(data, feature))"
   ]
  },
  {
   "cell_type": "code",
   "execution_count": 548,
   "id": "b3fddee0",
   "metadata": {},
   "outputs": [
    {
     "name": "stdout",
     "output_type": "stream",
     "text": [
      "[23, 272, 298, 443, 459, 469, 471, 481, 482, 532, 553, 554, 573, 584, 585, 609, 628, 660, 661, 685, 709, 725, 735, 812, 815, 880, 881, 882, 909, 913, 921, 962, 987, 1104, 1148, 1193, 1217, 1254, 1262, 1268, 1271, 1274, 1306, 1314, 1316, 1339, 1340, 1360, 7, 15, 37, 56, 120, 175, 183, 184, 253, 274, 295, 298, 299, 339, 387, 393, 395, 443, 459, 467, 468, 481, 487, 489, 517, 522, 528, 543, 549, 584, 634, 686, 706, 709, 754, 766, 880, 920, 994, 996, 998, 1147, 1158, 1168, 1200, 1203, 1212, 1230, 1249, 1253, 1255, 1261, 1271, 1273, 1274, 1284, 1297, 1316, 1353, 1368, 7, 23, 135, 274, 288, 438, 443, 480, 481, 490, 532, 549, 584, 641, 646, 685, 686, 688, 725, 751, 780, 841, 880, 887, 1033, 1041, 1130, 1186, 1193, 1200, 1254, 1273, 1284]\n"
     ]
    }
   ],
   "source": [
    "print(index_list)"
   ]
  },
  {
   "cell_type": "code",
   "execution_count": 549,
   "id": "68f7b643",
   "metadata": {},
   "outputs": [
    {
     "name": "stdout",
     "output_type": "stream",
     "text": [
      "141\n"
     ]
    }
   ],
   "source": [
    "print(len(index_list))"
   ]
  },
  {
   "cell_type": "code",
   "execution_count": 550,
   "id": "21514679",
   "metadata": {},
   "outputs": [],
   "source": [
    "def remove(df, ls):\n",
    "    ls = sorted(set(ls))\n",
    "    df = df.drop(ls)\n",
    "    return df"
   ]
  },
  {
   "cell_type": "code",
   "execution_count": 551,
   "id": "b4d3daf1",
   "metadata": {},
   "outputs": [
    {
     "data": {
      "text/html": [
       "<div>\n",
       "<style scoped>\n",
       "    .dataframe tbody tr th:only-of-type {\n",
       "        vertical-align: middle;\n",
       "    }\n",
       "\n",
       "    .dataframe tbody tr th {\n",
       "        vertical-align: top;\n",
       "    }\n",
       "\n",
       "    .dataframe thead th {\n",
       "        text-align: right;\n",
       "    }\n",
       "</style>\n",
       "<table border=\"1\" class=\"dataframe\">\n",
       "  <thead>\n",
       "    <tr style=\"text-align: right;\">\n",
       "      <th></th>\n",
       "      <th>N</th>\n",
       "      <th>Q1</th>\n",
       "      <th>District</th>\n",
       "      <th>Region</th>\n",
       "      <th>UrbanRural</th>\n",
       "      <th>YearOfBirth</th>\n",
       "      <th>Gender</th>\n",
       "      <th>Height</th>\n",
       "      <th>Weight</th>\n",
       "      <th>Education</th>\n",
       "      <th>...</th>\n",
       "      <th>n22301_TotalFats</th>\n",
       "      <th>n22303_TotalFats</th>\n",
       "      <th>n22304_TotalFats</th>\n",
       "      <th>n22305_TotalFats</th>\n",
       "      <th>EnergyAll</th>\n",
       "      <th>CarbohydrateAll</th>\n",
       "      <th>ProteinAll</th>\n",
       "      <th>TotalFatsAll</th>\n",
       "      <th>BMI</th>\n",
       "      <th>BMIGroups</th>\n",
       "    </tr>\n",
       "  </thead>\n",
       "  <tbody>\n",
       "    <tr>\n",
       "      <th>0</th>\n",
       "      <td>1</td>\n",
       "      <td>Yes</td>\n",
       "      <td>Shengavit</td>\n",
       "      <td>Yerevan</td>\n",
       "      <td>Yerevan</td>\n",
       "      <td>1973</td>\n",
       "      <td>Female</td>\n",
       "      <td>175</td>\n",
       "      <td>95</td>\n",
       "      <td>Higher education</td>\n",
       "      <td>...</td>\n",
       "      <td></td>\n",
       "      <td></td>\n",
       "      <td></td>\n",
       "      <td></td>\n",
       "      <td>1701.3478</td>\n",
       "      <td>214.31764</td>\n",
       "      <td>42.72178</td>\n",
       "      <td>73.57452</td>\n",
       "      <td>31.020408</td>\n",
       "      <td>Obese</td>\n",
       "    </tr>\n",
       "    <tr>\n",
       "      <th>1</th>\n",
       "      <td>2</td>\n",
       "      <td>Yes</td>\n",
       "      <td>Erebuni</td>\n",
       "      <td>Yerevan</td>\n",
       "      <td>Yerevan</td>\n",
       "      <td>1987</td>\n",
       "      <td>Male</td>\n",
       "      <td>168</td>\n",
       "      <td>77</td>\n",
       "      <td>Higher education</td>\n",
       "      <td>...</td>\n",
       "      <td></td>\n",
       "      <td></td>\n",
       "      <td></td>\n",
       "      <td></td>\n",
       "      <td>1088.5750</td>\n",
       "      <td>151.87200</td>\n",
       "      <td>54.87300</td>\n",
       "      <td>27.89350</td>\n",
       "      <td>27.281746</td>\n",
       "      <td>Overweight</td>\n",
       "    </tr>\n",
       "    <tr>\n",
       "      <th>2</th>\n",
       "      <td>3</td>\n",
       "      <td>Yes</td>\n",
       "      <td>Achapnyak</td>\n",
       "      <td>Yerevan</td>\n",
       "      <td>Yerevan</td>\n",
       "      <td>1979</td>\n",
       "      <td>Female</td>\n",
       "      <td>156</td>\n",
       "      <td>72</td>\n",
       "      <td>Higher education</td>\n",
       "      <td>...</td>\n",
       "      <td></td>\n",
       "      <td></td>\n",
       "      <td></td>\n",
       "      <td></td>\n",
       "      <td>1256.6700</td>\n",
       "      <td>129.11900</td>\n",
       "      <td>28.27200</td>\n",
       "      <td>68.13200</td>\n",
       "      <td>29.585799</td>\n",
       "      <td>Overweight</td>\n",
       "    </tr>\n",
       "    <tr>\n",
       "      <th>3</th>\n",
       "      <td>4</td>\n",
       "      <td>Yes</td>\n",
       "      <td>Nor Nork</td>\n",
       "      <td>Yerevan</td>\n",
       "      <td>Yerevan</td>\n",
       "      <td>1977</td>\n",
       "      <td>Female</td>\n",
       "      <td>173</td>\n",
       "      <td>78</td>\n",
       "      <td>Higher education</td>\n",
       "      <td>...</td>\n",
       "      <td></td>\n",
       "      <td></td>\n",
       "      <td></td>\n",
       "      <td></td>\n",
       "      <td>1657.1200</td>\n",
       "      <td>154.41600</td>\n",
       "      <td>57.34350</td>\n",
       "      <td>88.43500</td>\n",
       "      <td>26.061679</td>\n",
       "      <td>Overweight</td>\n",
       "    </tr>\n",
       "    <tr>\n",
       "      <th>4</th>\n",
       "      <td>5</td>\n",
       "      <td>Yes</td>\n",
       "      <td>Qanaqer-Zeytun</td>\n",
       "      <td>Yerevan</td>\n",
       "      <td>Yerevan</td>\n",
       "      <td>1984</td>\n",
       "      <td>Female</td>\n",
       "      <td>163</td>\n",
       "      <td>58</td>\n",
       "      <td>Higher education</td>\n",
       "      <td>...</td>\n",
       "      <td></td>\n",
       "      <td></td>\n",
       "      <td></td>\n",
       "      <td></td>\n",
       "      <td>164.0230</td>\n",
       "      <td>21.98200</td>\n",
       "      <td>9.71590</td>\n",
       "      <td>4.07920</td>\n",
       "      <td>21.829952</td>\n",
       "      <td>Normal</td>\n",
       "    </tr>\n",
       "  </tbody>\n",
       "</table>\n",
       "<p>5 rows × 937 columns</p>\n",
       "</div>"
      ],
      "text/plain": [
       "   N   Q1        District   Region UrbanRural  YearOfBirth  Gender Height  \\\n",
       "0  1  Yes       Shengavit  Yerevan    Yerevan         1973  Female    175   \n",
       "1  2  Yes         Erebuni  Yerevan    Yerevan         1987    Male    168   \n",
       "2  3  Yes       Achapnyak  Yerevan    Yerevan         1979  Female    156   \n",
       "3  4  Yes        Nor Nork  Yerevan    Yerevan         1977  Female    173   \n",
       "4  5  Yes  Qanaqer-Zeytun  Yerevan    Yerevan         1984  Female    163   \n",
       "\n",
       "  Weight         Education  ... n22301_TotalFats n22303_TotalFats  \\\n",
       "0     95  Higher education  ...                                     \n",
       "1     77  Higher education  ...                                     \n",
       "2     72  Higher education  ...                                     \n",
       "3     78  Higher education  ...                                     \n",
       "4     58  Higher education  ...                                     \n",
       "\n",
       "  n22304_TotalFats n22305_TotalFats  EnergyAll CarbohydrateAll ProteinAll  \\\n",
       "0                                    1701.3478       214.31764   42.72178   \n",
       "1                                    1088.5750       151.87200   54.87300   \n",
       "2                                    1256.6700       129.11900   28.27200   \n",
       "3                                    1657.1200       154.41600   57.34350   \n",
       "4                                     164.0230        21.98200    9.71590   \n",
       "\n",
       "  TotalFatsAll        BMI   BMIGroups  \n",
       "0     73.57452  31.020408       Obese  \n",
       "1     27.89350  27.281746  Overweight  \n",
       "2     68.13200  29.585799  Overweight  \n",
       "3     88.43500  26.061679  Overweight  \n",
       "4      4.07920  21.829952      Normal  \n",
       "\n",
       "[5 rows x 937 columns]"
      ]
     },
     "execution_count": 551,
     "metadata": {},
     "output_type": "execute_result"
    }
   ],
   "source": [
    "data_cleaned = remove(data, index_list)\n",
    "data_cleaned.head()"
   ]
  },
  {
   "cell_type": "code",
   "execution_count": 552,
   "id": "af53182c",
   "metadata": {},
   "outputs": [
    {
     "data": {
      "text/plain": [
       "(1286, 937)"
      ]
     },
     "execution_count": 552,
     "metadata": {},
     "output_type": "execute_result"
    }
   ],
   "source": [
    "data_cleaned.shape"
   ]
  },
  {
   "cell_type": "code",
   "execution_count": 553,
   "id": "5c22b878",
   "metadata": {},
   "outputs": [
    {
     "data": {
      "text/plain": [
       "count    1286.000000\n",
       "mean        5.542768\n",
       "std        28.784496\n",
       "min         0.000000\n",
       "25%         0.000000\n",
       "50%         0.000000\n",
       "75%         0.000000\n",
       "max       288.000000\n",
       "Name: n203_Energy, dtype: float64"
      ]
     },
     "execution_count": 553,
     "metadata": {},
     "output_type": "execute_result"
    }
   ],
   "source": [
    "data_cleaned['n203_Energy'].describe()"
   ]
  },
  {
   "cell_type": "code",
   "execution_count": 554,
   "id": "9e7a0d0e",
   "metadata": {},
   "outputs": [
    {
     "data": {
      "text/html": [
       "<div>\n",
       "<style scoped>\n",
       "    .dataframe tbody tr th:only-of-type {\n",
       "        vertical-align: middle;\n",
       "    }\n",
       "\n",
       "    .dataframe tbody tr th {\n",
       "        vertical-align: top;\n",
       "    }\n",
       "\n",
       "    .dataframe thead th {\n",
       "        text-align: right;\n",
       "    }\n",
       "</style>\n",
       "<table border=\"1\" class=\"dataframe\">\n",
       "  <thead>\n",
       "    <tr style=\"text-align: right;\">\n",
       "      <th></th>\n",
       "      <th>N</th>\n",
       "      <th>YearOfBirth</th>\n",
       "      <th>n203_Energy</th>\n",
       "      <th>EnergyAll</th>\n",
       "      <th>CarbohydrateAll</th>\n",
       "      <th>ProteinAll</th>\n",
       "      <th>TotalFatsAll</th>\n",
       "      <th>BMI</th>\n",
       "    </tr>\n",
       "  </thead>\n",
       "  <tbody>\n",
       "    <tr>\n",
       "      <th>count</th>\n",
       "      <td>1286.000000</td>\n",
       "      <td>1286.000000</td>\n",
       "      <td>1286.000000</td>\n",
       "      <td>1286.000000</td>\n",
       "      <td>1286.000000</td>\n",
       "      <td>1286.000000</td>\n",
       "      <td>1286.000000</td>\n",
       "      <td>1271.000000</td>\n",
       "    </tr>\n",
       "    <tr>\n",
       "      <th>mean</th>\n",
       "      <td>694.918351</td>\n",
       "      <td>1976.341369</td>\n",
       "      <td>5.542768</td>\n",
       "      <td>1738.787144</td>\n",
       "      <td>209.573129</td>\n",
       "      <td>71.506149</td>\n",
       "      <td>69.918826</td>\n",
       "      <td>25.044980</td>\n",
       "    </tr>\n",
       "    <tr>\n",
       "      <th>std</th>\n",
       "      <td>405.398032</td>\n",
       "      <td>17.216749</td>\n",
       "      <td>28.784496</td>\n",
       "      <td>788.235467</td>\n",
       "      <td>102.825203</td>\n",
       "      <td>38.626564</td>\n",
       "      <td>41.435756</td>\n",
       "      <td>4.488652</td>\n",
       "    </tr>\n",
       "    <tr>\n",
       "      <th>min</th>\n",
       "      <td>1.000000</td>\n",
       "      <td>1928.000000</td>\n",
       "      <td>0.000000</td>\n",
       "      <td>33.320000</td>\n",
       "      <td>2.283000</td>\n",
       "      <td>2.150000</td>\n",
       "      <td>0.392000</td>\n",
       "      <td>14.197531</td>\n",
       "    </tr>\n",
       "    <tr>\n",
       "      <th>25%</th>\n",
       "      <td>339.500000</td>\n",
       "      <td>1963.000000</td>\n",
       "      <td>0.000000</td>\n",
       "      <td>1173.757700</td>\n",
       "      <td>133.960855</td>\n",
       "      <td>41.604905</td>\n",
       "      <td>36.618825</td>\n",
       "      <td>21.719250</td>\n",
       "    </tr>\n",
       "    <tr>\n",
       "      <th>50%</th>\n",
       "      <td>698.500000</td>\n",
       "      <td>1979.000000</td>\n",
       "      <td>0.000000</td>\n",
       "      <td>1643.244800</td>\n",
       "      <td>194.915000</td>\n",
       "      <td>65.444522</td>\n",
       "      <td>65.613440</td>\n",
       "      <td>24.801587</td>\n",
       "    </tr>\n",
       "    <tr>\n",
       "      <th>75%</th>\n",
       "      <td>1045.750000</td>\n",
       "      <td>1991.000000</td>\n",
       "      <td>0.000000</td>\n",
       "      <td>2270.204250</td>\n",
       "      <td>274.217090</td>\n",
       "      <td>95.352647</td>\n",
       "      <td>97.556335</td>\n",
       "      <td>27.772111</td>\n",
       "    </tr>\n",
       "    <tr>\n",
       "      <th>max</th>\n",
       "      <td>1400.000000</td>\n",
       "      <td>2003.000000</td>\n",
       "      <td>288.000000</td>\n",
       "      <td>4061.293550</td>\n",
       "      <td>522.910520</td>\n",
       "      <td>195.259720</td>\n",
       "      <td>198.569000</td>\n",
       "      <td>45.638809</td>\n",
       "    </tr>\n",
       "  </tbody>\n",
       "</table>\n",
       "</div>"
      ],
      "text/plain": [
       "                 N  YearOfBirth  n203_Energy    EnergyAll  CarbohydrateAll  \\\n",
       "count  1286.000000  1286.000000  1286.000000  1286.000000      1286.000000   \n",
       "mean    694.918351  1976.341369     5.542768  1738.787144       209.573129   \n",
       "std     405.398032    17.216749    28.784496   788.235467       102.825203   \n",
       "min       1.000000  1928.000000     0.000000    33.320000         2.283000   \n",
       "25%     339.500000  1963.000000     0.000000  1173.757700       133.960855   \n",
       "50%     698.500000  1979.000000     0.000000  1643.244800       194.915000   \n",
       "75%    1045.750000  1991.000000     0.000000  2270.204250       274.217090   \n",
       "max    1400.000000  2003.000000   288.000000  4061.293550       522.910520   \n",
       "\n",
       "        ProteinAll  TotalFatsAll          BMI  \n",
       "count  1286.000000   1286.000000  1271.000000  \n",
       "mean     71.506149     69.918826    25.044980  \n",
       "std      38.626564     41.435756     4.488652  \n",
       "min       2.150000      0.392000    14.197531  \n",
       "25%      41.604905     36.618825    21.719250  \n",
       "50%      65.444522     65.613440    24.801587  \n",
       "75%      95.352647     97.556335    27.772111  \n",
       "max     195.259720    198.569000    45.638809  "
      ]
     },
     "execution_count": 554,
     "metadata": {},
     "output_type": "execute_result"
    }
   ],
   "source": [
    "data_cleaned.describe()"
   ]
  },
  {
   "cell_type": "code",
   "execution_count": 555,
   "id": "2418b9a4",
   "metadata": {},
   "outputs": [
    {
     "data": {
      "image/png": "[encoded data removed]",
      "text/plain": [
       "<Figure size 432x288 with 1 Axes>"
      ]
     },
     "metadata": {
      "needs_background": "light"
     },
     "output_type": "display_data"
    }
   ],
   "source": [
    "b1 = sns.boxplot(y=data_cleaned['EnergyAll'])\n",
    "b1.set_title('Total Energy Intake', fontsize = 16, weight='bold')\n",
    "b1.set_ylabel('Energy intake (kcal)', fontsize = 14, weight='bold')\n",
    "b1.tick_params(labelsize=14)\n",
    "#b1.get_figure().savefig(\"/Users/sedastepanyan/Downloads/20-01-2023_11-56-18/b1.png\")\n",
    "#b1.get_figure().savefig(\"C:/Users/User/Desktop/Seda/Our Articles/Nutrient Intake Article 24HR/Database/Tables, figures/b1.png\")\n",
    "#data_cleaned.boxplot('EnergyAll')"
   ]
  },
  {
   "cell_type": "code",
   "execution_count": 556,
   "id": "016ba84b",
   "metadata": {},
   "outputs": [
    {
     "ename": "NameError",
     "evalue": "name 'b' is not defined",
     "output_type": "error",
     "traceback": [
      "\u001b[0;31m---------------------------------------------------------------------------\u001b[0m",
      "\u001b[0;31mNameError\u001b[0m                                 Traceback (most recent call last)",
      "\u001b[0;32m<ipython-input-556-507e1727a4f1>\u001b[0m in \u001b[0;36m<module>\u001b[0;34m\u001b[0m\n\u001b[1;32m      4\u001b[0m \u001b[0mb2\u001b[0m\u001b[0;34m.\u001b[0m\u001b[0mtick_params\u001b[0m\u001b[0;34m(\u001b[0m\u001b[0mlabelsize\u001b[0m\u001b[0;34m=\u001b[0m\u001b[0;36m14\u001b[0m\u001b[0;34m)\u001b[0m\u001b[0;34m\u001b[0m\u001b[0;34m\u001b[0m\u001b[0m\n\u001b[1;32m      5\u001b[0m \u001b[0;31m#b2.get_figure().savefig(\"/Users/sedastepanyan/Downloads/20-01-2023_11-56-18/b2.png\")\u001b[0m\u001b[0;34m\u001b[0m\u001b[0;34m\u001b[0m\u001b[0;34m\u001b[0m\u001b[0m\n\u001b[0;32m----> 6\u001b[0;31m \u001b[0mb\u001b[0m\u001b[0;31m#2.get_figure().savefig(\"C:/Users/User/Desktop/Seda/Our Articles/Nutrient Intake Article 24HR/Database/Tables, figures/b2.png\")\u001b[0m\u001b[0;34m\u001b[0m\u001b[0;34m\u001b[0m\u001b[0m\n\u001b[0m\u001b[1;32m      7\u001b[0m \u001b[0;31m#data_cleaned.boxplot('CarbohydrateAll')\u001b[0m\u001b[0;34m\u001b[0m\u001b[0;34m\u001b[0m\u001b[0;34m\u001b[0m\u001b[0m\n",
      "\u001b[0;31mNameError\u001b[0m: name 'b' is not defined"
     ]
    },
    {
     "data": {
      "image/png": "[encoded data removed]",
      "text/plain": [
       "<Figure size 432x288 with 1 Axes>"
      ]
     },
     "metadata": {
      "needs_background": "light"
     },
     "output_type": "display_data"
    }
   ],
   "source": [
    "b2 = sns.boxplot(y=data_cleaned['CarbohydrateAll'])\n",
    "b2.set_title('Carbohydrate Intake', fontsize = 16, weight='bold')\n",
    "b2.set_ylabel('Carbohydrate intake (g/day)', fontsize = 14, weight='bold')\n",
    "b2.tick_params(labelsize=14)\n",
    "#b2.get_figure().savefig(\"/Users/sedastepanyan/Downloads/20-01-2023_11-56-18/b2.png\")\n",
    "b#2.get_figure().savefig(\"C:/Users/User/Desktop/Seda/Our Articles/Nutrient Intake Article 24HR/Database/Tables, figures/b2.png\")\n",
    "#data_cleaned.boxplot('CarbohydrateAll')"
   ]
  },
  {
   "cell_type": "code",
   "execution_count": 557,
   "id": "607f0538",
   "metadata": {},
   "outputs": [
    {
     "data": {
      "image/png": "[encoded data removed]",
      "text/plain": [
       "<Figure size 432x288 with 1 Axes>"
      ]
     },
     "metadata": {
      "needs_background": "light"
     },
     "output_type": "display_data"
    }
   ],
   "source": [
    "b3 = sns.boxplot(y=data_cleaned['ProteinAll'])\n",
    "b3.set_title('Protein Intake', fontsize = 16, weight='bold')\n",
    "b3.set_ylabel('Protein intake (g/day)', fontsize = 14, weight='bold')\n",
    "b3.tick_params(labelsize=14)\n",
    "#b3.get_figure().savefig(\"/Users/sedastepanyan/Downloads/20-01-2023_11-56-18/b3.png\")\n",
    "#b3.get_figure().savefig(\"C:/Users/User/Desktop/Seda/Our Articles/Nutrient Intake Article 24HR/Database/Tables, figures/b3.png\")\n",
    "#data_cleaned.boxplot('ProteinAll')\n"
   ]
  },
  {
   "cell_type": "code",
   "execution_count": 558,
   "id": "5905d6e7",
   "metadata": {},
   "outputs": [
    {
     "data": {
      "image/png": "[encoded data removed]",
      "text/plain": [
       "<Figure size 432x288 with 1 Axes>"
      ]
     },
     "metadata": {
      "needs_background": "light"
     },
     "output_type": "display_data"
    }
   ],
   "source": [
    "b4 = sns.boxplot(y=data_cleaned['TotalFatsAll'])\n",
    "b4.set_title('Total Fats Intake', fontsize = 16, weight='bold')\n",
    "b4.set_ylabel('Total Fats intake (g/day)', fontsize = 14, weight='bold')\n",
    "b4.tick_params(labelsize=14)\n",
    "#b4.get_figure().savefig(\"/Users/sedastepanyan/Downloads/20-01-2023_11-56-18/b4.png\")\n",
    "#b4.get_figure().savefig(\"C:/Users/User/Desktop/Seda/Our Articles/Nutrient Intake Article 24HR/Database/Tables, figures/b4.png\")\n",
    "#data_cleaned.boxplot('TotalFatsAll')"
   ]
  },
  {
   "cell_type": "code",
   "execution_count": 559,
   "id": "a5e6797e",
   "metadata": {},
   "outputs": [
    {
     "data": {
      "image/png": "[encoded data removed]",
      "text/plain": [
       "<Figure size 432x288 with 1 Axes>"
      ]
     },
     "metadata": {
      "needs_background": "light"
     },
     "output_type": "display_data"
    }
   ],
   "source": [
    "b5 = sns.boxplot(y=data_cleaned['BMI'])\n",
    "b5.set_title('Body Mass Index (BMI)', fontsize = 16, weight='bold')\n",
    "b5.set_ylabel('Body Mass Index', fontsize = 14, weight='bold')\n",
    "b5.tick_params(labelsize=14)\n",
    "#data_cleaned.boxplot('BMI')"
   ]
  },
  {
   "cell_type": "code",
   "execution_count": null,
   "id": "5905d017",
   "metadata": {},
   "outputs": [],
   "source": []
  },
  {
   "cell_type": "code",
   "execution_count": 560,
   "id": "2fe19a00",
   "metadata": {},
   "outputs": [
    {
     "data": {
      "image/png": "[encoded data removed]",
      "text/plain": [
       "<Figure size 432x288 with 1 Axes>"
      ]
     },
     "metadata": {
      "needs_background": "light"
     },
     "output_type": "display_data"
    }
   ],
   "source": [
    "b6 = sns.boxplot( x=data_cleaned['Gender'], y=data_cleaned[\"BMI\"], palette='Blues')\n",
    "b6.set_title('Body Mass Index based on gender', fontsize = 16, weight='bold')\n",
    "b6.set_xlabel('Gender', fontsize = 14, weight='bold')\n",
    "b6.set_ylabel('Body Mass Index', fontsize = 14, weight='bold')\n",
    "b6.tick_params(labelsize=14)\n",
    "#b6.get_figure().savefig(\"/Users/sedastepanyan/Downloads/20-01-2023_11-56-18/BMI2.png\", dpi=300)\n",
    "#b6.get_figure().savefig(\"C:/Users/User/Desktop/Seda/Our Articles/Nutrient Intake Article 24HR/Database/Tables, figures/BMI2.png\", dpi=300)"
   ]
  },
  {
   "cell_type": "code",
   "execution_count": 561,
   "id": "8c32b689",
   "metadata": {},
   "outputs": [],
   "source": [
    "#shapiro(data_cleaned['CarbohydrateAll'])"
   ]
  },
  {
   "cell_type": "code",
   "execution_count": 562,
   "id": "597de93f",
   "metadata": {},
   "outputs": [],
   "source": [
    "data_cleaned.to_csv('/Users/sedastepanyan/Downloads/20-01-2023_11-56-18/TDS DB MD All BMI Cleaned.csv')\n",
    "#data_cleaned.to_csv('C:/Users/User/Desktop/Seda/Our Articles/Nutrient Intake Article 24HR/Database/TDS DB MD All BMI Cleaned.csv')"
   ]
  },
  {
   "cell_type": "code",
   "execution_count": null,
   "id": "fea50a10",
   "metadata": {},
   "outputs": [],
   "source": []
  },
  {
   "cell_type": "code",
   "execution_count": 563,
   "id": "9d227d9e",
   "metadata": {},
   "outputs": [
    {
     "data": {
      "text/plain": [
       "N                    int64\n",
       "Q1                  object\n",
       "District            object\n",
       "Region              object\n",
       "UrbanRural          object\n",
       "                    ...   \n",
       "CarbohydrateAll    float64\n",
       "ProteinAll         float64\n",
       "TotalFatsAll       float64\n",
       "BMI                float64\n",
       "BMIGroups           object\n",
       "Length: 937, dtype: object"
      ]
     },
     "execution_count": 563,
     "metadata": {},
     "output_type": "execute_result"
    }
   ],
   "source": [
    "cols = ['n101', 'n102', 'n103', 'n104', 'n105', 'n106', 'n107', 'n108', 'n110', 'n111', 'n112', 'n116', 'n117', 'n199', 'n201', 'n202', 'n203', 'n204', 'n205', 'n206', 'n207', 'n208', 'n209', 'n210', 'n212', 'n213', 'n215', 'n216', 'n299', 'n301', 'n302', 'n399', 'n401', 'n402', 'n403', 'n404', 'n405', 'n406', 'n408', 'n499', 'n11102', 'n11104', 'n11106', 'n11107', 'n11108', 'n11109', 'n11110', 'n11301', 'n11305', 'n11399', 'n11501', 'n11502', 'n11503', 'n11599', 'n11600', 'n11611', 'n11612', 'n11613', 'n11614', 'n11615', 'n11616', 'n11617', 'n11702', 'n11704', 'n12101', 'n12111', 'n12201', 'n12499', 'n12501', 'n12502', 'n12503', 'n12504', 'n12505', 'n12599', 'n12603', 'n12605', 'n12606', 'n12607', 'n12609', 'n12610', 'n12699', 'n13101', 'n14102', 'n14107', 'n14201', 'n14202', 'n14203', 'n14205', 'n14206', 'n14301', 'n14311', 'n14401', 'n15100', 'n16101', 'n16102', 'n16104', 'n16111', 'n16112', 'n16113', 'n16114', 'n16116', 'n16121', 'n16123', 'n16124', 'n16131', 'n16132', 'n16133', 'n16134', 'n16135', 'n16141', 'n16142', 'n16143', 'n16399', 'n17101', 'n17102', 'n17103', 'n17123', 'n17131', 'n17132', 'n17133', 'n17134', 'n17135', 'n17136', 'n17138', 'n17140', 'n17142', 'n17144', 'n17145', 'n17146', 'n17201', 'n17202', 'n17211', 'n17212', 'n17213', 'n17215', 'n17217', 'n17220', 'n17300', 'n18102', 'n18201', 'n18202', 'n18212', 'n18220', 'n18300', 'n18401', 'n18402', 'n18405', 'n18500', 'n19103', 'n19104', 'n22201', 'n22301', 'n22303', 'n22304', 'n22305']\n",
    "\n",
    "data_cleaned[cols] = data_cleaned[cols].apply(pd.to_numeric, errors='coerce', axis=1)\n",
    "data_cleaned.dtypes"
   ]
  },
  {
   "cell_type": "markdown",
   "id": "30906be4",
   "metadata": {},
   "source": [
    "### Loop over food list and simple carb list. For each food, create a new column in the main dataframe. For each food multipy the consumption amount by its corresponding simple carb value and divide by 100 to get the result per 100g."
   ]
  },
  {
   "cell_type": "code",
   "execution_count": 564,
   "id": "662449b5",
   "metadata": {},
   "outputs": [],
   "source": [
    "food_list= ['n102', 'n112', 'n204', 'n208', 'n210', 'n401', 'n402','n11106', 'n11107', 'n11109', 'n11110', 'n11301', 'n11305', 'n11503','n11600', 'n11614', 'n12101', 'n12111', 'n12201', 'n12501', 'n12606', 'n12607', 'n12609', 'n13101', 'n14201', 'n14205', 'n14311', 'n14401', 'n16101', 'n16102', 'n16111', 'n16112', 'n16113', 'n16116', 'n16121', 'n16131', 'n16133', 'n16141', 'n16142', 'n17101', 'n17123', 'n17131', 'n17132', 'n17133', 'n17134', 'n17135', 'n17136', 'n17138', 'n17140', 'n17142', 'n17146', 'n17201', 'n17202', 'n17211','n18102', 'n18300',  'n18500', 'n19103', 'n19104']\n",
    "simplecarb_list=[0.0, 0.0, 5.8, 4.6, 5.2, 0.6, 2.7, 64.4, 67.5, 68.9, 79.2, 48.0, 57.2, 71.9, 66.9, 32.9, 0.0, 0.0, 0.0, 2.7, 16.7, 0.5, 8.3, 0.0, 5.6, 13.5, 3.1, 0.5, 11.4, 11.4, 8.7, 8.0, 11.1, 14.6, 20.8, 9.7, 10.6, 7.6, 7.0, 4.3, 1.98, 15.0, 3.8, 2.0, 2.9, 4.0, 3.4, 7.9, 6.1, 3.2, 2.4, 0.3, 51.1, 14.8, 100.0, 60.6, 23.6, 2.8, 22.0]\n",
    "y=0\n",
    "for x in food_list:\n",
    "    data_cleaned[(str(x)+'_SimpleCarb')]=data_cleaned[x]*simplecarb_list[y]/100\n",
    "    y=y+1"
   ]
  },
  {
   "cell_type": "markdown",
   "id": "29de4dd1",
   "metadata": {},
   "source": [
    "### Loop over food list and sugar list. For each food, create a new column in the main dataframe. For each food multipy the consumption amount by its corresponding sugar value and divide by 100 to get the result per 100g."
   ]
  },
  {
   "cell_type": "code",
   "execution_count": 565,
   "id": "e3ae3cb9",
   "metadata": {},
   "outputs": [],
   "source": [
    "food_list= ['n11104', 'n11106','n11107', 'n11110', 'n11301', 'n11305','n11501', 'n11503','n11600', 'n11614','n11615','n11617', 'n11702', 'n14206', 'n16101', 'n16102','n16104', 'n16111', 'n16112', 'n16113', 'n16114','n16116', 'n16121', 'n16123', 'n16124', 'n16131','n16132', 'n16133', 'n16134','n16135', 'n16141', 'n16142','n16143',  'n17101','n17102','n17103', 'n17123', 'n17131', 'n17132', 'n17133', 'n17134', 'n17135', 'n17136', 'n17138', 'n17140', 'n17142', 'n17144','n17145', 'n17146', 'n17201', 'n17202', 'n18102','n18201', 'n18202', 'n18220','n18300', 'n18401', 'n18500', 'n22201']\n",
    "sugar_list=[2.64, 0.4, 0.02, 0.01, 1.335, 1.84, 0.05, 5.5, 18.83, 1.43, 20.0, 0.47, 22.0, 0.43, 4.99, 9.69, 8.3, 4.13, 1.52, 5.8, 10.12, 9.5, 15.8, 19.2, 14.02, 5.57, 6.65, 4.61, 9.21, 2.59, 5.42, 2.57, 4.86, 1.19, 0.04, 3.8, 0.06, 0.08, 2.65, 1.71, 2.11, 1.43, 2.33, 2.09, 0.84, 5.76, 2.61, 0.2, 1.73, 2.41, 2.8, 100.0, 54.43, 56.72, 72.6, 46.6, 24.45, 27.94, 11.0 ]\n",
    "y=0\n",
    "for x in food_list:\n",
    "    data_cleaned[(str(x)+'_Sugar')]=data_cleaned[x]*sugar_list[y]/100\n",
    "    y=y+1"
   ]
  },
  {
   "cell_type": "code",
   "execution_count": 566,
   "id": "e75ab5ca",
   "metadata": {},
   "outputs": [],
   "source": [
    "#Convert to numeric\n",
    "data_cleaned.iloc[:, 275:315] = data_cleaned.iloc[:, 275:315].apply(pd.to_numeric, errors = 'coerce')\n",
    "data_cleaned.iloc[:, 439:479] = data_cleaned.iloc[:, 439:479].apply(pd.to_numeric, errors = 'coerce')\n",
    "data_cleaned.iloc[:, 603:643] = data_cleaned.iloc[:, 603:643].apply(pd.to_numeric, errors = 'coerce')\n",
    "data_cleaned.iloc[:, 767:807] = data_cleaned.iloc[:, 767:807].apply(pd.to_numeric, errors = 'coerce')\n",
    "data_cleaned.iloc[:, 936:996] = data_cleaned.iloc[:, 936:996].apply(pd.to_numeric, errors = 'coerce')\n",
    "data_cleaned.iloc[:, 996:1054] = data_cleaned.iloc[:, 996:1054].apply(pd.to_numeric, errors = 'coerce')\n",
    "\n",
    "#data_cleaned['n199_Energy'].describe()"
   ]
  },
  {
   "cell_type": "code",
   "execution_count": 567,
   "id": "2e3e39b9",
   "metadata": {},
   "outputs": [
    {
     "data": {
      "text/plain": [
       "0       309.577640\n",
       "1       166.237500\n",
       "2       134.327000\n",
       "3       134.762000\n",
       "4         0.000000\n",
       "           ...    \n",
       "1395     72.692820\n",
       "1396     57.767520\n",
       "1397    201.465484\n",
       "1398    135.600820\n",
       "1399    213.227784\n",
       "Name: SimpleCarbAll, Length: 1286, dtype: float64"
      ]
     },
     "execution_count": 567,
     "metadata": {},
     "output_type": "execute_result"
    }
   ],
   "source": [
    "simplecarb = data_cleaned.iloc[0:1400, 936:996]\n",
    "data_cleaned['SimpleCarbAll']=simplecarb.sum(axis = 1)\n",
    "data_cleaned['SimpleCarbAll']"
   ]
  },
  {
   "cell_type": "code",
   "execution_count": 568,
   "id": "0663b4e0",
   "metadata": {},
   "outputs": [
    {
     "data": {
      "text/plain": [
       "0       43.617274\n",
       "1        4.099600\n",
       "2       30.756900\n",
       "3       48.637150\n",
       "4        1.036300\n",
       "          ...    \n",
       "1395    11.263737\n",
       "1396     8.583830\n",
       "1397    27.123238\n",
       "1398    70.653537\n",
       "1399    38.075505\n",
       "Name: SugarAll, Length: 1286, dtype: float64"
      ]
     },
     "execution_count": 568,
     "metadata": {},
     "output_type": "execute_result"
    }
   ],
   "source": [
    "sugar = data_cleaned.iloc[0:1400, 996:1054]\n",
    "data_cleaned['SugarAll']=sugar.sum(axis = 1)\n",
    "data_cleaned['SugarAll']"
   ]
  },
  {
   "cell_type": "code",
   "execution_count": 569,
   "id": "cb82d453",
   "metadata": {},
   "outputs": [
    {
     "data": {
      "text/plain": [
       "1047"
      ]
     },
     "execution_count": 569,
     "metadata": {},
     "output_type": "execute_result"
    }
   ],
   "source": [
    "data_cleaned.columns.get_loc(\"n18102_Sugar\")"
   ]
  },
  {
   "cell_type": "code",
   "execution_count": 570,
   "id": "3075e63f",
   "metadata": {},
   "outputs": [],
   "source": [
    "#data_cleaned['n11106_SimpleCarb'].dtypes"
   ]
  },
  {
   "cell_type": "code",
   "execution_count": 571,
   "id": "9fa12265",
   "metadata": {},
   "outputs": [
    {
     "data": {
      "text/plain": [
       "'n17202_Sugar'"
      ]
     },
     "execution_count": 571,
     "metadata": {},
     "output_type": "execute_result"
    }
   ],
   "source": [
    "data_cleaned.columns[1046]"
   ]
  },
  {
   "cell_type": "code",
   "execution_count": 572,
   "id": "4aff96f7",
   "metadata": {},
   "outputs": [],
   "source": [
    "#.columns[338]"
   ]
  },
  {
   "cell_type": "markdown",
   "id": "c19ad2f6",
   "metadata": {},
   "source": []
  },
  {
   "cell_type": "code",
   "execution_count": 573,
   "id": "81146250",
   "metadata": {},
   "outputs": [],
   "source": [
    "#Convert to numeric starting from \"n11102_Energy\" to 'n22305_TotalFats' (930). Note, that 930 is not inclusive.\n",
    "data_cleaned.iloc[:, 315:1054] = data_cleaned.iloc[:, 315:1054].apply(pd.to_numeric, errors = 'coerce')\n",
    "\n"
   ]
  },
  {
   "cell_type": "code",
   "execution_count": 574,
   "id": "d9b513e2",
   "metadata": {},
   "outputs": [],
   "source": [
    "#data_cleaned['n11102_Energy'].dtypes"
   ]
  },
  {
   "cell_type": "markdown",
   "id": "0683e2c1",
   "metadata": {},
   "source": [
    "# Calculate Energy received from 11 food groups and 4 mixed dishes \n",
    "\n",
    "### We need to speacify min_count = 1 so that the sum across all NaNs in pandas returns NaNs instead of zero\n"
   ]
  },
  {
   "cell_type": "code",
   "execution_count": 575,
   "id": "a2d4e6b7",
   "metadata": {},
   "outputs": [],
   "source": [
    "data_cleaned['Bread and flour based products_Energy'] = data_cleaned.iloc[:, 315:339].sum(axis=1, min_count = 1)\n",
    "data_cleaned['Meat and meat products_Energy'] = data_cleaned.iloc[:, 339:356].sum(axis=1, min_count = 1)\n",
    "data_cleaned['Fish_Energy'] = data_cleaned.iloc[:, 356:366].sum(axis=1, min_count = 1) \n",
    "data_cleaned['Milk and milk products_Energy'] = data_cleaned.iloc[:, 366:375].sum(axis=1, min_count = 1)\n",
    "data_cleaned['Eggs_Energy'] = data_cleaned['n14401_Energy']\n",
    "data_cleaned['Fat and Oil Products_Energy'] = data_cleaned['n15100_Energy']\n",
    "data_cleaned['Fruits_Energy'] = data_cleaned.iloc[:, 377:397].sum(axis=1, min_count = 1)\n",
    "data_cleaned['Vegetables_Energy'] = data_cleaned.iloc[:, [397, 398, 399, 400, 402, 403, 404, 405, 406, 407, 408, 409, 410, 411, 412, 413, 414, 415, 416, 417, 418, 419, 420, 421]].sum(axis=1, min_count = 1)\n",
    "data_cleaned['Potato_Energy'] = data_cleaned['n17131_Energy']\n",
    "data_cleaned['Sugar, honey, confectionery_Energy'] = data_cleaned.iloc[:, 422:434].sum(axis=1, min_count = 1)\n",
    "data_cleaned['Juices_Energy'] = data_cleaned.iloc[:, 434:439].sum(axis=1, min_count = 1)\n",
    "\n",
    "data_cleaned['Salads_Energy'] = data_cleaned.iloc[:, 275:289].sum(axis=1, min_count = 1)\n",
    "data_cleaned['Soups_Energy'] = data_cleaned.iloc[:, 289:304].sum(axis=1, min_count = 1)\n",
    "data_cleaned['Rice dish_Energy'] = data_cleaned.iloc[:, 304:307].sum(axis=1, min_count = 1)\n",
    "data_cleaned['Scrambled Eggs_Energy'] = data_cleaned.iloc[:, 307:315].sum(axis=1, min_count = 1)"
   ]
  },
  {
   "cell_type": "markdown",
   "id": "a9001eec",
   "metadata": {},
   "source": [
    "## Below is a table that shows Energy intake (kcal) received from 11 food groups and 4 mixed dishes."
   ]
  },
  {
   "cell_type": "code",
   "execution_count": 576,
   "id": "d29fdea9",
   "metadata": {},
   "outputs": [
    {
     "data": {
      "text/html": [
       "<div>\n",
       "<style scoped>\n",
       "    .dataframe tbody tr th:only-of-type {\n",
       "        vertical-align: middle;\n",
       "    }\n",
       "\n",
       "    .dataframe tbody tr th {\n",
       "        vertical-align: top;\n",
       "    }\n",
       "\n",
       "    .dataframe thead th {\n",
       "        text-align: right;\n",
       "    }\n",
       "</style>\n",
       "<table border=\"1\" class=\"dataframe\">\n",
       "  <thead>\n",
       "    <tr style=\"text-align: right;\">\n",
       "      <th></th>\n",
       "      <th>Bread and flour based products_Energy</th>\n",
       "      <th>Meat and meat products_Energy</th>\n",
       "      <th>Fish_Energy</th>\n",
       "      <th>Milk and milk products_Energy</th>\n",
       "      <th>Eggs_Energy</th>\n",
       "      <th>Fat and Oil Products_Energy</th>\n",
       "      <th>Fruits_Energy</th>\n",
       "      <th>Vegetables_Energy</th>\n",
       "      <th>Potato_Energy</th>\n",
       "      <th>Sugar, honey, confectionery_Energy</th>\n",
       "      <th>Juices_Energy</th>\n",
       "      <th>Salads_Energy</th>\n",
       "      <th>Soups_Energy</th>\n",
       "      <th>Rice dish_Energy</th>\n",
       "      <th>Scrambled Eggs_Energy</th>\n",
       "    </tr>\n",
       "  </thead>\n",
       "  <tbody>\n",
       "    <tr>\n",
       "      <th>count</th>\n",
       "      <td>1230.000000</td>\n",
       "      <td>704.000000</td>\n",
       "      <td>28.000000</td>\n",
       "      <td>836.000000</td>\n",
       "      <td>142.000000</td>\n",
       "      <td>132.000000</td>\n",
       "      <td>609.000000</td>\n",
       "      <td>705.000000</td>\n",
       "      <td>404.000000</td>\n",
       "      <td>865.000000</td>\n",
       "      <td>404.000000</td>\n",
       "      <td>392.000000</td>\n",
       "      <td>1286.000000</td>\n",
       "      <td>33.000000</td>\n",
       "      <td>238.000000</td>\n",
       "    </tr>\n",
       "    <tr>\n",
       "      <th>mean</th>\n",
       "      <td>831.014102</td>\n",
       "      <td>369.943306</td>\n",
       "      <td>410.558929</td>\n",
       "      <td>170.113158</td>\n",
       "      <td>133.022535</td>\n",
       "      <td>108.441364</td>\n",
       "      <td>158.439389</td>\n",
       "      <td>87.368019</td>\n",
       "      <td>140.427104</td>\n",
       "      <td>169.820882</td>\n",
       "      <td>223.897818</td>\n",
       "      <td>332.581320</td>\n",
       "      <td>60.929121</td>\n",
       "      <td>400.477273</td>\n",
       "      <td>388.530567</td>\n",
       "    </tr>\n",
       "    <tr>\n",
       "      <th>std</th>\n",
       "      <td>581.854908</td>\n",
       "      <td>273.760328</td>\n",
       "      <td>183.063688</td>\n",
       "      <td>121.098728</td>\n",
       "      <td>49.200193</td>\n",
       "      <td>68.088054</td>\n",
       "      <td>151.341794</td>\n",
       "      <td>142.716402</td>\n",
       "      <td>49.512674</td>\n",
       "      <td>166.167552</td>\n",
       "      <td>161.617678</td>\n",
       "      <td>170.110583</td>\n",
       "      <td>133.958104</td>\n",
       "      <td>43.626270</td>\n",
       "      <td>224.756150</td>\n",
       "    </tr>\n",
       "    <tr>\n",
       "      <th>min</th>\n",
       "      <td>30.480000</td>\n",
       "      <td>10.923800</td>\n",
       "      <td>66.900000</td>\n",
       "      <td>6.700000</td>\n",
       "      <td>89.100000</td>\n",
       "      <td>43.920000</td>\n",
       "      <td>3.040000</td>\n",
       "      <td>2.103570</td>\n",
       "      <td>31.950000</td>\n",
       "      <td>8.000000</td>\n",
       "      <td>18.751600</td>\n",
       "      <td>48.900000</td>\n",
       "      <td>0.000000</td>\n",
       "      <td>208.500000</td>\n",
       "      <td>41.375000</td>\n",
       "    </tr>\n",
       "    <tr>\n",
       "      <th>25%</th>\n",
       "      <td>370.500000</td>\n",
       "      <td>159.365625</td>\n",
       "      <td>351.225000</td>\n",
       "      <td>86.400000</td>\n",
       "      <td>89.100000</td>\n",
       "      <td>65.880000</td>\n",
       "      <td>66.987500</td>\n",
       "      <td>22.738800</td>\n",
       "      <td>142.000000</td>\n",
       "      <td>60.000000</td>\n",
       "      <td>107.800000</td>\n",
       "      <td>264.812500</td>\n",
       "      <td>0.000000</td>\n",
       "      <td>408.000000</td>\n",
       "      <td>165.500000</td>\n",
       "    </tr>\n",
       "    <tr>\n",
       "      <th>50%</th>\n",
       "      <td>694.357500</td>\n",
       "      <td>305.000000</td>\n",
       "      <td>401.400000</td>\n",
       "      <td>137.210000</td>\n",
       "      <td>89.100000</td>\n",
       "      <td>87.840000</td>\n",
       "      <td>116.375000</td>\n",
       "      <td>48.700300</td>\n",
       "      <td>142.000000</td>\n",
       "      <td>129.840000</td>\n",
       "      <td>200.000000</td>\n",
       "      <td>313.950000</td>\n",
       "      <td>0.000000</td>\n",
       "      <td>412.500000</td>\n",
       "      <td>383.100000</td>\n",
       "    </tr>\n",
       "    <tr>\n",
       "      <th>75%</th>\n",
       "      <td>1156.875750</td>\n",
       "      <td>467.517500</td>\n",
       "      <td>479.450000</td>\n",
       "      <td>233.640000</td>\n",
       "      <td>178.200000</td>\n",
       "      <td>131.760000</td>\n",
       "      <td>202.623750</td>\n",
       "      <td>93.300900</td>\n",
       "      <td>156.200000</td>\n",
       "      <td>223.070000</td>\n",
       "      <td>269.871000</td>\n",
       "      <td>327.206250</td>\n",
       "      <td>0.000000</td>\n",
       "      <td>417.000000</td>\n",
       "      <td>537.500000</td>\n",
       "    </tr>\n",
       "    <tr>\n",
       "      <th>max</th>\n",
       "      <td>3278.620000</td>\n",
       "      <td>2327.820000</td>\n",
       "      <td>958.900000</td>\n",
       "      <td>1004.100000</td>\n",
       "      <td>356.400000</td>\n",
       "      <td>366.000000</td>\n",
       "      <td>1400.000000</td>\n",
       "      <td>1516.500000</td>\n",
       "      <td>355.000000</td>\n",
       "      <td>1848.000000</td>\n",
       "      <td>1284.077500</td>\n",
       "      <td>1098.825000</td>\n",
       "      <td>1248.000000</td>\n",
       "      <td>417.000000</td>\n",
       "      <td>1281.300000</td>\n",
       "    </tr>\n",
       "  </tbody>\n",
       "</table>\n",
       "</div>"
      ],
      "text/plain": [
       "       Bread and flour based products_Energy  Meat and meat products_Energy  \\\n",
       "count                            1230.000000                     704.000000   \n",
       "mean                              831.014102                     369.943306   \n",
       "std                               581.854908                     273.760328   \n",
       "min                                30.480000                      10.923800   \n",
       "25%                               370.500000                     159.365625   \n",
       "50%                               694.357500                     305.000000   \n",
       "75%                              1156.875750                     467.517500   \n",
       "max                              3278.620000                    2327.820000   \n",
       "\n",
       "       Fish_Energy  Milk and milk products_Energy  Eggs_Energy  \\\n",
       "count    28.000000                     836.000000   142.000000   \n",
       "mean    410.558929                     170.113158   133.022535   \n",
       "std     183.063688                     121.098728    49.200193   \n",
       "min      66.900000                       6.700000    89.100000   \n",
       "25%     351.225000                      86.400000    89.100000   \n",
       "50%     401.400000                     137.210000    89.100000   \n",
       "75%     479.450000                     233.640000   178.200000   \n",
       "max     958.900000                    1004.100000   356.400000   \n",
       "\n",
       "       Fat and Oil Products_Energy  Fruits_Energy  Vegetables_Energy  \\\n",
       "count                   132.000000     609.000000         705.000000   \n",
       "mean                    108.441364     158.439389          87.368019   \n",
       "std                      68.088054     151.341794         142.716402   \n",
       "min                      43.920000       3.040000           2.103570   \n",
       "25%                      65.880000      66.987500          22.738800   \n",
       "50%                      87.840000     116.375000          48.700300   \n",
       "75%                     131.760000     202.623750          93.300900   \n",
       "max                     366.000000    1400.000000        1516.500000   \n",
       "\n",
       "       Potato_Energy  Sugar, honey, confectionery_Energy  Juices_Energy  \\\n",
       "count     404.000000                          865.000000     404.000000   \n",
       "mean      140.427104                          169.820882     223.897818   \n",
       "std        49.512674                          166.167552     161.617678   \n",
       "min        31.950000                            8.000000      18.751600   \n",
       "25%       142.000000                           60.000000     107.800000   \n",
       "50%       142.000000                          129.840000     200.000000   \n",
       "75%       156.200000                          223.070000     269.871000   \n",
       "max       355.000000                         1848.000000    1284.077500   \n",
       "\n",
       "       Salads_Energy  Soups_Energy  Rice dish_Energy  Scrambled Eggs_Energy  \n",
       "count     392.000000   1286.000000         33.000000             238.000000  \n",
       "mean      332.581320     60.929121        400.477273             388.530567  \n",
       "std       170.110583    133.958104         43.626270             224.756150  \n",
       "min        48.900000      0.000000        208.500000              41.375000  \n",
       "25%       264.812500      0.000000        408.000000             165.500000  \n",
       "50%       313.950000      0.000000        412.500000             383.100000  \n",
       "75%       327.206250      0.000000        417.000000             537.500000  \n",
       "max      1098.825000   1248.000000        417.000000            1281.300000  "
      ]
     },
     "execution_count": 576,
     "metadata": {},
     "output_type": "execute_result"
    }
   ],
   "source": [
    "df3 = data_cleaned[['Bread and flour based products_Energy', \n",
    "                    'Meat and meat products_Energy', \n",
    "                    'Fish_Energy', 'Milk and milk products_Energy', \n",
    "                    'Eggs_Energy', 'Fat and Oil Products_Energy', \n",
    "                    'Fruits_Energy', 'Vegetables_Energy', 'Potato_Energy', \n",
    "                    'Sugar, honey, confectionery_Energy', 'Juices_Energy', \n",
    "                   'Salads_Energy', 'Soups_Energy', 'Rice dish_Energy', 'Scrambled Eggs_Energy']].describe()\n",
    "df3"
   ]
  },
  {
   "cell_type": "code",
   "execution_count": 577,
   "id": "4c265fd1",
   "metadata": {},
   "outputs": [],
   "source": [
    "#df3.to_excel('/Users/sedastepanyan/Downloads/20-01-2023_11-56-18/Table1.xlsx')\n",
    "#df3.to_excel('C:/Users/User/Desktop/Seda/Our Articles/Nutrient Intake Article 24HR/Database/Tables, figures/Table1.xlsx')"
   ]
  },
  {
   "cell_type": "markdown",
   "id": "815889f3",
   "metadata": {},
   "source": [
    "# Calculate Carbohydrate Received from 11 food groups and 4 mixed dishes."
   ]
  },
  {
   "cell_type": "code",
   "execution_count": 578,
   "id": "7cac9b7e",
   "metadata": {},
   "outputs": [],
   "source": [
    "data_cleaned['Bread and flour based products_Carbohydrate'] = data_cleaned.iloc[:, 479:503].sum(axis=1, min_count = 1)\n",
    "data_cleaned['Meat and meat products_Carbohydrate'] = data_cleaned.iloc[:, 503:520].sum(axis=1, min_count = 1)\n",
    "data_cleaned['Fish_Carbohydrate'] = data_cleaned.iloc[:, 520:530].sum(axis=1, min_count = 1) \n",
    "data_cleaned['Milk and milk products_Carbohydrate'] = data_cleaned.iloc[:, 530:539].sum(axis=1, min_count = 1)\n",
    "data_cleaned['Eggs_Carbohydrate'] = data_cleaned['n14401_Carbohydrate']\n",
    "data_cleaned['Fat and Oil Products_Carbohydrate'] = data_cleaned['n15100_Carbohydrate']\n",
    "data_cleaned['Fruits_Carbohydrate'] = data_cleaned.iloc[:, 541:561].sum(axis=1, min_count = 1)\n",
    "data_cleaned['Vegetables_Carbohydrate'] = data_cleaned.iloc[:, [561, 562, 563, 564, 566, 567, 568, 569, 570, 571, 572, 573, 574, 575, 576, 577, 578, 579, 580, 581, 582, 583, 584, 585]].sum(axis=1, min_count = 1)\n",
    "data_cleaned['Potato_Carbohydrate'] = data_cleaned['n17131_Carbohydrate']\n",
    "data_cleaned['Sugar, honey, confectionery_Carbohydrate'] = data_cleaned.iloc[:, 586:598].sum(axis=1, min_count = 1)\n",
    "data_cleaned['Juices_Carbohydrate'] = data_cleaned.iloc[:, 598:604].sum(axis=1, min_count = 1)\n",
    "\n",
    "data_cleaned['Salads_Carbohydrate'] = data_cleaned.iloc[:, 439:453].sum(axis=1, min_count = 1)\n",
    "data_cleaned['Soups_Carbohydrate'] = data_cleaned.iloc[:, 453:468].sum(axis=1, min_count = 1)\n",
    "data_cleaned['Rice dish_Carbohydrate'] = data_cleaned.iloc[:, 468:471].sum(axis=1, min_count = 1)\n",
    "data_cleaned['Scrambled Eggs_Carbohydrate'] = data_cleaned.iloc[:, 471:479].sum(axis=1, min_count = 1)"
   ]
  },
  {
   "cell_type": "markdown",
   "id": "a1c3f45b",
   "metadata": {},
   "source": [
    "## Below is a table that shows Carbohydrate intake (g) received from 11 food groups and 4 mixed dishes."
   ]
  },
  {
   "cell_type": "code",
   "execution_count": 579,
   "id": "56270bd0",
   "metadata": {},
   "outputs": [
    {
     "data": {
      "text/html": [
       "<div>\n",
       "<style scoped>\n",
       "    .dataframe tbody tr th:only-of-type {\n",
       "        vertical-align: middle;\n",
       "    }\n",
       "\n",
       "    .dataframe tbody tr th {\n",
       "        vertical-align: top;\n",
       "    }\n",
       "\n",
       "    .dataframe thead th {\n",
       "        text-align: right;\n",
       "    }\n",
       "</style>\n",
       "<table border=\"1\" class=\"dataframe\">\n",
       "  <thead>\n",
       "    <tr style=\"text-align: right;\">\n",
       "      <th></th>\n",
       "      <th>Bread and flour based products_Carbohydrate</th>\n",
       "      <th>Meat and meat products_Carbohydrate</th>\n",
       "      <th>Fish_Carbohydrate</th>\n",
       "      <th>Milk and milk products_Carbohydrate</th>\n",
       "      <th>Eggs_Carbohydrate</th>\n",
       "      <th>Fat and Oil Products_Carbohydrate</th>\n",
       "      <th>Fruits_Carbohydrate</th>\n",
       "      <th>Vegetables_Carbohydrate</th>\n",
       "      <th>Potato_Carbohydrate</th>\n",
       "      <th>Sugar, honey, confectionery_Carbohydrate</th>\n",
       "      <th>Juices_Carbohydrate</th>\n",
       "      <th>Salads_Carbohydrate</th>\n",
       "      <th>Soups_Carbohydrate</th>\n",
       "      <th>Rice dish_Carbohydrate</th>\n",
       "      <th>Scrambled Eggs_Carbohydrate</th>\n",
       "    </tr>\n",
       "  </thead>\n",
       "  <tbody>\n",
       "    <tr>\n",
       "      <th>count</th>\n",
       "      <td>1230.000000</td>\n",
       "      <td>704.000000</td>\n",
       "      <td>28.0</td>\n",
       "      <td>836.000000</td>\n",
       "      <td>142.000000</td>\n",
       "      <td>132.0</td>\n",
       "      <td>609.000000</td>\n",
       "      <td>705.000000</td>\n",
       "      <td>404.000000</td>\n",
       "      <td>865.000000</td>\n",
       "      <td>584.000000</td>\n",
       "      <td>392.000000</td>\n",
       "      <td>298.000000</td>\n",
       "      <td>33.000000</td>\n",
       "      <td>238.000000</td>\n",
       "    </tr>\n",
       "    <tr>\n",
       "      <th>mean</th>\n",
       "      <td>122.999330</td>\n",
       "      <td>5.199911</td>\n",
       "      <td>0.0</td>\n",
       "      <td>5.826238</td>\n",
       "      <td>0.410563</td>\n",
       "      <td>0.0</td>\n",
       "      <td>33.897252</td>\n",
       "      <td>14.276427</td>\n",
       "      <td>29.074344</td>\n",
       "      <td>23.419290</td>\n",
       "      <td>39.375182</td>\n",
       "      <td>17.709892</td>\n",
       "      <td>48.812081</td>\n",
       "      <td>53.254545</td>\n",
       "      <td>6.289422</td>\n",
       "    </tr>\n",
       "    <tr>\n",
       "      <th>std</th>\n",
       "      <td>76.128063</td>\n",
       "      <td>17.096077</td>\n",
       "      <td>0.0</td>\n",
       "      <td>7.723430</td>\n",
       "      <td>0.151852</td>\n",
       "      <td>0.0</td>\n",
       "      <td>32.056231</td>\n",
       "      <td>22.480424</td>\n",
       "      <td>10.251216</td>\n",
       "      <td>20.908566</td>\n",
       "      <td>41.016054</td>\n",
       "      <td>9.776786</td>\n",
       "      <td>75.449839</td>\n",
       "      <td>14.960549</td>\n",
       "      <td>5.421516</td>\n",
       "    </tr>\n",
       "    <tr>\n",
       "      <th>min</th>\n",
       "      <td>3.600000</td>\n",
       "      <td>0.000000</td>\n",
       "      <td>0.0</td>\n",
       "      <td>0.200000</td>\n",
       "      <td>0.275000</td>\n",
       "      <td>0.0</td>\n",
       "      <td>0.000000</td>\n",
       "      <td>0.166950</td>\n",
       "      <td>6.615000</td>\n",
       "      <td>0.560000</td>\n",
       "      <td>0.800000</td>\n",
       "      <td>3.200000</td>\n",
       "      <td>2.400000</td>\n",
       "      <td>35.250000</td>\n",
       "      <td>0.875000</td>\n",
       "    </tr>\n",
       "    <tr>\n",
       "      <th>25%</th>\n",
       "      <td>61.987210</td>\n",
       "      <td>0.000000</td>\n",
       "      <td>0.0</td>\n",
       "      <td>0.640000</td>\n",
       "      <td>0.275000</td>\n",
       "      <td>0.0</td>\n",
       "      <td>14.480000</td>\n",
       "      <td>3.577560</td>\n",
       "      <td>29.400000</td>\n",
       "      <td>8.000000</td>\n",
       "      <td>2.800000</td>\n",
       "      <td>14.350000</td>\n",
       "      <td>13.200000</td>\n",
       "      <td>35.400000</td>\n",
       "      <td>1.750000</td>\n",
       "    </tr>\n",
       "    <tr>\n",
       "      <th>50%</th>\n",
       "      <td>110.304500</td>\n",
       "      <td>0.000000</td>\n",
       "      <td>0.0</td>\n",
       "      <td>2.240000</td>\n",
       "      <td>0.275000</td>\n",
       "      <td>0.0</td>\n",
       "      <td>25.480000</td>\n",
       "      <td>7.200000</td>\n",
       "      <td>29.400000</td>\n",
       "      <td>20.844000</td>\n",
       "      <td>27.100000</td>\n",
       "      <td>14.350000</td>\n",
       "      <td>18.625000</td>\n",
       "      <td>53.100000</td>\n",
       "      <td>6.900000</td>\n",
       "    </tr>\n",
       "    <tr>\n",
       "      <th>75%</th>\n",
       "      <td>169.869750</td>\n",
       "      <td>2.299500</td>\n",
       "      <td>0.0</td>\n",
       "      <td>10.332000</td>\n",
       "      <td>0.550000</td>\n",
       "      <td>0.0</td>\n",
       "      <td>42.993820</td>\n",
       "      <td>14.487890</td>\n",
       "      <td>32.340000</td>\n",
       "      <td>30.711250</td>\n",
       "      <td>58.000000</td>\n",
       "      <td>19.362500</td>\n",
       "      <td>33.000000</td>\n",
       "      <td>70.500000</td>\n",
       "      <td>7.250000</td>\n",
       "    </tr>\n",
       "    <tr>\n",
       "      <th>max</th>\n",
       "      <td>432.839000</td>\n",
       "      <td>232.000000</td>\n",
       "      <td>0.0</td>\n",
       "      <td>50.940000</td>\n",
       "      <td>1.100000</td>\n",
       "      <td>0.0</td>\n",
       "      <td>304.000000</td>\n",
       "      <td>273.547000</td>\n",
       "      <td>73.500000</td>\n",
       "      <td>240.000000</td>\n",
       "      <td>314.925000</td>\n",
       "      <td>67.250000</td>\n",
       "      <td>356.400000</td>\n",
       "      <td>70.500000</td>\n",
       "      <td>48.300000</td>\n",
       "    </tr>\n",
       "  </tbody>\n",
       "</table>\n",
       "</div>"
      ],
      "text/plain": [
       "       Bread and flour based products_Carbohydrate  \\\n",
       "count                                  1230.000000   \n",
       "mean                                    122.999330   \n",
       "std                                      76.128063   \n",
       "min                                       3.600000   \n",
       "25%                                      61.987210   \n",
       "50%                                     110.304500   \n",
       "75%                                     169.869750   \n",
       "max                                     432.839000   \n",
       "\n",
       "       Meat and meat products_Carbohydrate  Fish_Carbohydrate  \\\n",
       "count                           704.000000               28.0   \n",
       "mean                              5.199911                0.0   \n",
       "std                              17.096077                0.0   \n",
       "min                               0.000000                0.0   \n",
       "25%                               0.000000                0.0   \n",
       "50%                               0.000000                0.0   \n",
       "75%                               2.299500                0.0   \n",
       "max                             232.000000                0.0   \n",
       "\n",
       "       Milk and milk products_Carbohydrate  Eggs_Carbohydrate  \\\n",
       "count                           836.000000         142.000000   \n",
       "mean                              5.826238           0.410563   \n",
       "std                               7.723430           0.151852   \n",
       "min                               0.200000           0.275000   \n",
       "25%                               0.640000           0.275000   \n",
       "50%                               2.240000           0.275000   \n",
       "75%                              10.332000           0.550000   \n",
       "max                              50.940000           1.100000   \n",
       "\n",
       "       Fat and Oil Products_Carbohydrate  Fruits_Carbohydrate  \\\n",
       "count                              132.0           609.000000   \n",
       "mean                                 0.0            33.897252   \n",
       "std                                  0.0            32.056231   \n",
       "min                                  0.0             0.000000   \n",
       "25%                                  0.0            14.480000   \n",
       "50%                                  0.0            25.480000   \n",
       "75%                                  0.0            42.993820   \n",
       "max                                  0.0           304.000000   \n",
       "\n",
       "       Vegetables_Carbohydrate  Potato_Carbohydrate  \\\n",
       "count               705.000000           404.000000   \n",
       "mean                 14.276427            29.074344   \n",
       "std                  22.480424            10.251216   \n",
       "min                   0.166950             6.615000   \n",
       "25%                   3.577560            29.400000   \n",
       "50%                   7.200000            29.400000   \n",
       "75%                  14.487890            32.340000   \n",
       "max                 273.547000            73.500000   \n",
       "\n",
       "       Sugar, honey, confectionery_Carbohydrate  Juices_Carbohydrate  \\\n",
       "count                                865.000000           584.000000   \n",
       "mean                                  23.419290            39.375182   \n",
       "std                                   20.908566            41.016054   \n",
       "min                                    0.560000             0.800000   \n",
       "25%                                    8.000000             2.800000   \n",
       "50%                                   20.844000            27.100000   \n",
       "75%                                   30.711250            58.000000   \n",
       "max                                  240.000000           314.925000   \n",
       "\n",
       "       Salads_Carbohydrate  Soups_Carbohydrate  Rice dish_Carbohydrate  \\\n",
       "count           392.000000          298.000000               33.000000   \n",
       "mean             17.709892           48.812081               53.254545   \n",
       "std               9.776786           75.449839               14.960549   \n",
       "min               3.200000            2.400000               35.250000   \n",
       "25%              14.350000           13.200000               35.400000   \n",
       "50%              14.350000           18.625000               53.100000   \n",
       "75%              19.362500           33.000000               70.500000   \n",
       "max              67.250000          356.400000               70.500000   \n",
       "\n",
       "       Scrambled Eggs_Carbohydrate  \n",
       "count                   238.000000  \n",
       "mean                      6.289422  \n",
       "std                       5.421516  \n",
       "min                       0.875000  \n",
       "25%                       1.750000  \n",
       "50%                       6.900000  \n",
       "75%                       7.250000  \n",
       "max                      48.300000  "
      ]
     },
     "execution_count": 579,
     "metadata": {},
     "output_type": "execute_result"
    }
   ],
   "source": [
    "df4 = data_cleaned[['Bread and flour based products_Carbohydrate', \n",
    "                    'Meat and meat products_Carbohydrate', \n",
    "                    'Fish_Carbohydrate', 'Milk and milk products_Carbohydrate', \n",
    "                    'Eggs_Carbohydrate', 'Fat and Oil Products_Carbohydrate', \n",
    "                    'Fruits_Carbohydrate', 'Vegetables_Carbohydrate', 'Potato_Carbohydrate', \n",
    "                    'Sugar, honey, confectionery_Carbohydrate', 'Juices_Carbohydrate', \n",
    "                   'Salads_Carbohydrate', 'Soups_Carbohydrate', \n",
    "                    'Rice dish_Carbohydrate', 'Scrambled Eggs_Carbohydrate']].describe()\n",
    "df4"
   ]
  },
  {
   "cell_type": "code",
   "execution_count": 580,
   "id": "8142ade4",
   "metadata": {},
   "outputs": [],
   "source": [
    "#df4.to_excel('/Users/sedastepanyan/Downloads/20-01-2023_11-56-18/Table2.xlsx')\n",
    "#df4.to_excel('C:/Users/User/Desktop/Seda/Our Articles/Nutrient Intake Article 24HR/Database/Tables, figures/Table2.xlsx')"
   ]
  },
  {
   "cell_type": "markdown",
   "id": "07cb20f3",
   "metadata": {},
   "source": [
    "# Calculate protein Received from 11 food groups and 4 mixed dishes."
   ]
  },
  {
   "cell_type": "code",
   "execution_count": 581,
   "id": "826a25eb",
   "metadata": {},
   "outputs": [],
   "source": [
    "data_cleaned['Bread and flour based products_Protein'] = data_cleaned.iloc[:, 643:667].sum(axis=1, min_count = 1)\n",
    "data_cleaned['Meat and meat products_Protein'] = data_cleaned.iloc[:, 667:684].sum(axis=1, min_count = 1)\n",
    "data_cleaned['Fish_Protein'] = data_cleaned.iloc[:, 684:694].sum(axis=1, min_count = 1) \n",
    "data_cleaned['Milk and milk products_Protein'] = data_cleaned.iloc[:, 694:703].sum(axis=1, min_count = 1)\n",
    "data_cleaned['Eggs_Protein'] = data_cleaned['n14401_Protein']\n",
    "data_cleaned['Fat and Oil Products_Protein'] = data_cleaned['n15100_Protein']\n",
    "data_cleaned['Fruits_Protein'] = data_cleaned.iloc[:, 705:725].sum(axis=1, min_count = 1)\n",
    "data_cleaned['Vegetables_Protein'] = data_cleaned.iloc[:, [725, 726, 727, 728, 730, 731, 732, 733, 734, 735, 736, 737, 738, 739, 740, 741, 742, 743, 744, 745, 746, 747, 748, 749]].sum(axis=1, min_count = 1)\n",
    "data_cleaned['Potato_Protein'] = data_cleaned['n17131_Protein']\n",
    "data_cleaned['Sugar, honey, confectionery_Protein'] = data_cleaned.iloc[:, 750:762].sum(axis=1, min_count = 1)\n",
    "data_cleaned['Juices_Protein'] = data_cleaned.iloc[:, 762:767].sum(axis=1, min_count = 1)\n",
    "\n",
    "data_cleaned['Salads_Protein'] = data_cleaned.iloc[:, 603:617].sum(axis=1, min_count = 1)\n",
    "data_cleaned['Soups_Protein'] = data_cleaned.iloc[:, 617:632].sum(axis=1, min_count = 1)\n",
    "data_cleaned['Rice dish_Protein'] = data_cleaned.iloc[:, 632:635].sum(axis=1, min_count = 1)\n",
    "data_cleaned['Scrambled Eggs_Protein'] = data_cleaned.iloc[:, 635:643].sum(axis=1, min_count = 1)"
   ]
  },
  {
   "cell_type": "markdown",
   "id": "38927363",
   "metadata": {},
   "source": [
    "## Below is a table that shows Protein intake (g) received from 11 food groups and 4 mixed dishes."
   ]
  },
  {
   "cell_type": "code",
   "execution_count": 582,
   "id": "7f339aa8",
   "metadata": {},
   "outputs": [
    {
     "data": {
      "text/html": [
       "<div>\n",
       "<style scoped>\n",
       "    .dataframe tbody tr th:only-of-type {\n",
       "        vertical-align: middle;\n",
       "    }\n",
       "\n",
       "    .dataframe tbody tr th {\n",
       "        vertical-align: top;\n",
       "    }\n",
       "\n",
       "    .dataframe thead th {\n",
       "        text-align: right;\n",
       "    }\n",
       "</style>\n",
       "<table border=\"1\" class=\"dataframe\">\n",
       "  <thead>\n",
       "    <tr style=\"text-align: right;\">\n",
       "      <th></th>\n",
       "      <th>Bread and flour based products_Protein</th>\n",
       "      <th>Meat and meat products_Protein</th>\n",
       "      <th>Fish_Protein</th>\n",
       "      <th>Milk and milk products_Protein</th>\n",
       "      <th>Eggs_Protein</th>\n",
       "      <th>Fat and Oil Products_Protein</th>\n",
       "      <th>Fruits_Protein</th>\n",
       "      <th>Vegetables_Protein</th>\n",
       "      <th>Potato_Protein</th>\n",
       "      <th>Sugar, honey, confectionery_Protein</th>\n",
       "      <th>Juices_Protein</th>\n",
       "      <th>Salads_Protein</th>\n",
       "      <th>Soups_Protein</th>\n",
       "      <th>Rice dish_Protein</th>\n",
       "      <th>Scrambled Eggs_Protein</th>\n",
       "    </tr>\n",
       "  </thead>\n",
       "  <tbody>\n",
       "    <tr>\n",
       "      <th>count</th>\n",
       "      <td>1230.000000</td>\n",
       "      <td>704.000000</td>\n",
       "      <td>28.000000</td>\n",
       "      <td>836.000000</td>\n",
       "      <td>142.000000</td>\n",
       "      <td>132.0</td>\n",
       "      <td>609.000000</td>\n",
       "      <td>705.000000</td>\n",
       "      <td>404.000000</td>\n",
       "      <td>865.000000</td>\n",
       "      <td>404.000000</td>\n",
       "      <td>392.000000</td>\n",
       "      <td>298.000000</td>\n",
       "      <td>33.000000</td>\n",
       "      <td>238.000000</td>\n",
       "    </tr>\n",
       "    <tr>\n",
       "      <th>mean</th>\n",
       "      <td>28.204594</td>\n",
       "      <td>38.580237</td>\n",
       "      <td>78.245536</td>\n",
       "      <td>9.124599</td>\n",
       "      <td>11.495775</td>\n",
       "      <td>0.0</td>\n",
       "      <td>2.448972</td>\n",
       "      <td>3.363321</td>\n",
       "      <td>3.362339</td>\n",
       "      <td>2.127520</td>\n",
       "      <td>0.704240</td>\n",
       "      <td>6.767073</td>\n",
       "      <td>10.842845</td>\n",
       "      <td>17.238636</td>\n",
       "      <td>20.398435</td>\n",
       "    </tr>\n",
       "    <tr>\n",
       "      <th>std</th>\n",
       "      <td>17.855039</td>\n",
       "      <td>28.909469</td>\n",
       "      <td>34.888819</td>\n",
       "      <td>6.370527</td>\n",
       "      <td>4.251869</td>\n",
       "      <td>0.0</td>\n",
       "      <td>2.716505</td>\n",
       "      <td>5.620381</td>\n",
       "      <td>1.185515</td>\n",
       "      <td>2.597841</td>\n",
       "      <td>0.688145</td>\n",
       "      <td>8.248043</td>\n",
       "      <td>6.046070</td>\n",
       "      <td>5.432588</td>\n",
       "      <td>12.908322</td>\n",
       "    </tr>\n",
       "    <tr>\n",
       "      <th>min</th>\n",
       "      <td>0.498000</td>\n",
       "      <td>1.075400</td>\n",
       "      <td>12.750000</td>\n",
       "      <td>0.320000</td>\n",
       "      <td>7.700000</td>\n",
       "      <td>0.0</td>\n",
       "      <td>0.079500</td>\n",
       "      <td>0.079800</td>\n",
       "      <td>0.765000</td>\n",
       "      <td>0.000000</td>\n",
       "      <td>0.000000</td>\n",
       "      <td>0.800000</td>\n",
       "      <td>1.750000</td>\n",
       "      <td>6.150000</td>\n",
       "      <td>1.687500</td>\n",
       "    </tr>\n",
       "    <tr>\n",
       "      <th>25%</th>\n",
       "      <td>13.000000</td>\n",
       "      <td>14.700000</td>\n",
       "      <td>66.937500</td>\n",
       "      <td>5.120000</td>\n",
       "      <td>7.700000</td>\n",
       "      <td>0.0</td>\n",
       "      <td>0.825000</td>\n",
       "      <td>0.949888</td>\n",
       "      <td>3.400000</td>\n",
       "      <td>0.045000</td>\n",
       "      <td>0.245000</td>\n",
       "      <td>2.800000</td>\n",
       "      <td>5.700000</td>\n",
       "      <td>12.300000</td>\n",
       "      <td>6.750000</td>\n",
       "    </tr>\n",
       "    <tr>\n",
       "      <th>50%</th>\n",
       "      <td>26.000000</td>\n",
       "      <td>29.640000</td>\n",
       "      <td>76.500000</td>\n",
       "      <td>7.680000</td>\n",
       "      <td>7.700000</td>\n",
       "      <td>0.0</td>\n",
       "      <td>1.664040</td>\n",
       "      <td>1.941800</td>\n",
       "      <td>3.400000</td>\n",
       "      <td>0.993000</td>\n",
       "      <td>0.500000</td>\n",
       "      <td>2.800000</td>\n",
       "      <td>10.671429</td>\n",
       "      <td>18.450000</td>\n",
       "      <td>18.600000</td>\n",
       "    </tr>\n",
       "    <tr>\n",
       "      <th>75%</th>\n",
       "      <td>39.000000</td>\n",
       "      <td>52.055625</td>\n",
       "      <td>91.375000</td>\n",
       "      <td>12.430000</td>\n",
       "      <td>15.400000</td>\n",
       "      <td>0.0</td>\n",
       "      <td>3.151925</td>\n",
       "      <td>3.899054</td>\n",
       "      <td>3.740000</td>\n",
       "      <td>3.150000</td>\n",
       "      <td>0.902000</td>\n",
       "      <td>6.850000</td>\n",
       "      <td>11.700000</td>\n",
       "      <td>24.600000</td>\n",
       "      <td>29.750000</td>\n",
       "    </tr>\n",
       "    <tr>\n",
       "      <th>max</th>\n",
       "      <td>96.498000</td>\n",
       "      <td>150.440000</td>\n",
       "      <td>182.750000</td>\n",
       "      <td>37.460000</td>\n",
       "      <td>30.800000</td>\n",
       "      <td>0.0</td>\n",
       "      <td>28.000000</td>\n",
       "      <td>91.205450</td>\n",
       "      <td>8.500000</td>\n",
       "      <td>28.000000</td>\n",
       "      <td>4.500000</td>\n",
       "      <td>78.400000</td>\n",
       "      <td>42.400000</td>\n",
       "      <td>24.600000</td>\n",
       "      <td>68.750000</td>\n",
       "    </tr>\n",
       "  </tbody>\n",
       "</table>\n",
       "</div>"
      ],
      "text/plain": [
       "       Bread and flour based products_Protein  Meat and meat products_Protein  \\\n",
       "count                             1230.000000                      704.000000   \n",
       "mean                                28.204594                       38.580237   \n",
       "std                                 17.855039                       28.909469   \n",
       "min                                  0.498000                        1.075400   \n",
       "25%                                 13.000000                       14.700000   \n",
       "50%                                 26.000000                       29.640000   \n",
       "75%                                 39.000000                       52.055625   \n",
       "max                                 96.498000                      150.440000   \n",
       "\n",
       "       Fish_Protein  Milk and milk products_Protein  Eggs_Protein  \\\n",
       "count     28.000000                      836.000000    142.000000   \n",
       "mean      78.245536                        9.124599     11.495775   \n",
       "std       34.888819                        6.370527      4.251869   \n",
       "min       12.750000                        0.320000      7.700000   \n",
       "25%       66.937500                        5.120000      7.700000   \n",
       "50%       76.500000                        7.680000      7.700000   \n",
       "75%       91.375000                       12.430000     15.400000   \n",
       "max      182.750000                       37.460000     30.800000   \n",
       "\n",
       "       Fat and Oil Products_Protein  Fruits_Protein  Vegetables_Protein  \\\n",
       "count                         132.0      609.000000          705.000000   \n",
       "mean                            0.0        2.448972            3.363321   \n",
       "std                             0.0        2.716505            5.620381   \n",
       "min                             0.0        0.079500            0.079800   \n",
       "25%                             0.0        0.825000            0.949888   \n",
       "50%                             0.0        1.664040            1.941800   \n",
       "75%                             0.0        3.151925            3.899054   \n",
       "max                             0.0       28.000000           91.205450   \n",
       "\n",
       "       Potato_Protein  Sugar, honey, confectionery_Protein  Juices_Protein  \\\n",
       "count      404.000000                           865.000000      404.000000   \n",
       "mean         3.362339                             2.127520        0.704240   \n",
       "std          1.185515                             2.597841        0.688145   \n",
       "min          0.765000                             0.000000        0.000000   \n",
       "25%          3.400000                             0.045000        0.245000   \n",
       "50%          3.400000                             0.993000        0.500000   \n",
       "75%          3.740000                             3.150000        0.902000   \n",
       "max          8.500000                            28.000000        4.500000   \n",
       "\n",
       "       Salads_Protein  Soups_Protein  Rice dish_Protein  \\\n",
       "count      392.000000     298.000000          33.000000   \n",
       "mean         6.767073      10.842845          17.238636   \n",
       "std          8.248043       6.046070           5.432588   \n",
       "min          0.800000       1.750000           6.150000   \n",
       "25%          2.800000       5.700000          12.300000   \n",
       "50%          2.800000      10.671429          18.450000   \n",
       "75%          6.850000      11.700000          24.600000   \n",
       "max         78.400000      42.400000          24.600000   \n",
       "\n",
       "       Scrambled Eggs_Protein  \n",
       "count              238.000000  \n",
       "mean                20.398435  \n",
       "std                 12.908322  \n",
       "min                  1.687500  \n",
       "25%                  6.750000  \n",
       "50%                 18.600000  \n",
       "75%                 29.750000  \n",
       "max                 68.750000  "
      ]
     },
     "execution_count": 582,
     "metadata": {},
     "output_type": "execute_result"
    }
   ],
   "source": [
    "df5 = data_cleaned[['Bread and flour based products_Protein', \n",
    "                    'Meat and meat products_Protein', \n",
    "                    'Fish_Protein', 'Milk and milk products_Protein', \n",
    "                    'Eggs_Protein', 'Fat and Oil Products_Protein', \n",
    "                    'Fruits_Protein', 'Vegetables_Protein', 'Potato_Protein', \n",
    "                    'Sugar, honey, confectionery_Protein', 'Juices_Protein', \n",
    "                   'Salads_Protein', 'Soups_Protein', \n",
    "                   'Rice dish_Protein', 'Scrambled Eggs_Protein']].describe()\n",
    "df5"
   ]
  },
  {
   "cell_type": "code",
   "execution_count": 583,
   "id": "fe53559b",
   "metadata": {},
   "outputs": [],
   "source": [
    "#df5.to_excel('/Users/sedastepanyan/Downloads/20-01-2023_11-56-18/Table3.xlsx')\n",
    "#df5.to_excel('C:/Users/User/Desktop/Seda/Our Articles/Nutrient Intake Article 24HR/Database/Tables, figures/Table3.xlsx')"
   ]
  },
  {
   "cell_type": "markdown",
   "id": "ae612012",
   "metadata": {},
   "source": [
    "# Calculate Total Fats Received from 11 food groups."
   ]
  },
  {
   "cell_type": "code",
   "execution_count": 584,
   "id": "74584357",
   "metadata": {},
   "outputs": [],
   "source": [
    "data_cleaned['Bread and flour based products_TotalFats'] = data_cleaned.iloc[:, 807:831].sum(axis=1, min_count = 1)\n",
    "data_cleaned['Meat and meat products_TotalFats'] = data_cleaned.iloc[:, 831:848].sum(axis=1, min_count = 1)\n",
    "data_cleaned['Fish_TotalFats'] = data_cleaned.iloc[:, 848:858].sum(axis=1, min_count = 1) \n",
    "data_cleaned['Milk and milk products_TotalFats'] = data_cleaned.iloc[:, 858:867].sum(axis=1, min_count = 1)\n",
    "data_cleaned['Eggs_TotalFats'] = data_cleaned['n14401_TotalFats']\n",
    "data_cleaned['Fat and Oil Products_TotalFats'] = data_cleaned['n15100_TotalFats']\n",
    "data_cleaned['Fruits_TotalFats'] = data_cleaned.iloc[:, 869:889].sum(axis=1, min_count = 1)\n",
    "data_cleaned['Vegetables_TotalFats'] = data_cleaned.iloc[:, [889, 890, 891, 892, 894, 895, 896, 897, 898, 899, 900, 901, 902, 903, 904, 905, 906, 907, 908, 909, 910, 911, 912, 913]].sum(axis=1, min_count = 1)\n",
    "data_cleaned['Potato_TotalFats'] = data_cleaned['n17131_TotalFats']\n",
    "data_cleaned['Sugar, honey, confectionery_TotalFats'] = data_cleaned.iloc[:, 914:926].sum(axis=1, min_count = 1)\n",
    "data_cleaned['Juices_TotalFats'] = data_cleaned.iloc[:, 926:931].sum(axis=1, min_count = 1)\n",
    "\n",
    "data_cleaned['Salads_TotalFats'] = data_cleaned.iloc[:, 767:781].sum(axis=1, min_count = 1)\n",
    "data_cleaned['Soups_TotalFats'] = data_cleaned.iloc[:, 781:796].sum(axis=1, min_count = 1)\n",
    "data_cleaned['Rice dish_TotalFats'] = data_cleaned.iloc[:, 796:799].sum(axis=1, min_count = 1)\n",
    "data_cleaned['Scrambled Eggs_TotalFats'] = data_cleaned.iloc[:, 799:807].sum(axis=1, min_count = 1)"
   ]
  },
  {
   "cell_type": "markdown",
   "id": "9cb8d73d",
   "metadata": {},
   "source": [
    "## Below is a table that shows Total Fats intake (g) received from 11 food groups."
   ]
  },
  {
   "cell_type": "code",
   "execution_count": 585,
   "id": "0f14130b",
   "metadata": {},
   "outputs": [
    {
     "data": {
      "text/html": [
       "<div>\n",
       "<style scoped>\n",
       "    .dataframe tbody tr th:only-of-type {\n",
       "        vertical-align: middle;\n",
       "    }\n",
       "\n",
       "    .dataframe tbody tr th {\n",
       "        vertical-align: top;\n",
       "    }\n",
       "\n",
       "    .dataframe thead th {\n",
       "        text-align: right;\n",
       "    }\n",
       "</style>\n",
       "<table border=\"1\" class=\"dataframe\">\n",
       "  <thead>\n",
       "    <tr style=\"text-align: right;\">\n",
       "      <th></th>\n",
       "      <th>Bread and flour based products_TotalFats</th>\n",
       "      <th>Meat and meat products_TotalFats</th>\n",
       "      <th>Fish_TotalFats</th>\n",
       "      <th>Milk and milk products_TotalFats</th>\n",
       "      <th>Eggs_TotalFats</th>\n",
       "      <th>Fat and Oil Products_TotalFats</th>\n",
       "      <th>Fruits_TotalFats</th>\n",
       "      <th>Vegetables_TotalFats</th>\n",
       "      <th>Potato_TotalFats</th>\n",
       "      <th>Sugar, honey, confectionery_TotalFats</th>\n",
       "      <th>Juices_TotalFats</th>\n",
       "      <th>Salads_TotalFats</th>\n",
       "      <th>Soups_TotalFats</th>\n",
       "      <th>Rice dish_TotalFats</th>\n",
       "      <th>Scrambled Eggs_TotalFats</th>\n",
       "    </tr>\n",
       "  </thead>\n",
       "  <tbody>\n",
       "    <tr>\n",
       "      <th>count</th>\n",
       "      <td>1230.000000</td>\n",
       "      <td>704.000000</td>\n",
       "      <td>28.000000</td>\n",
       "      <td>836.000000</td>\n",
       "      <td>142.000000</td>\n",
       "      <td>132.000000</td>\n",
       "      <td>609.000000</td>\n",
       "      <td>705.000000</td>\n",
       "      <td>404.000000</td>\n",
       "      <td>865.000000</td>\n",
       "      <td>404.000000</td>\n",
       "      <td>392.000000</td>\n",
       "      <td>298.000000</td>\n",
       "      <td>33.000000</td>\n",
       "      <td>238.000000</td>\n",
       "    </tr>\n",
       "    <tr>\n",
       "      <th>mean</th>\n",
       "      <td>24.532122</td>\n",
       "      <td>21.283627</td>\n",
       "      <td>10.862321</td>\n",
       "      <td>12.130165</td>\n",
       "      <td>9.442958</td>\n",
       "      <td>12.044102</td>\n",
       "      <td>0.753820</td>\n",
       "      <td>1.615234</td>\n",
       "      <td>0.593354</td>\n",
       "      <td>7.695420</td>\n",
       "      <td>0.182296</td>\n",
       "      <td>26.600351</td>\n",
       "      <td>15.914370</td>\n",
       "      <td>13.615909</td>\n",
       "      <td>30.230588</td>\n",
       "    </tr>\n",
       "    <tr>\n",
       "      <th>std</th>\n",
       "      <td>28.666160</td>\n",
       "      <td>19.011955</td>\n",
       "      <td>4.843389</td>\n",
       "      <td>9.346032</td>\n",
       "      <td>3.492606</td>\n",
       "      <td>7.562239</td>\n",
       "      <td>1.775363</td>\n",
       "      <td>5.600816</td>\n",
       "      <td>0.209208</td>\n",
       "      <td>9.446773</td>\n",
       "      <td>0.208922</td>\n",
       "      <td>15.664740</td>\n",
       "      <td>13.325973</td>\n",
       "      <td>4.133863</td>\n",
       "      <td>18.547895</td>\n",
       "    </tr>\n",
       "    <tr>\n",
       "      <th>min</th>\n",
       "      <td>0.078000</td>\n",
       "      <td>0.679200</td>\n",
       "      <td>1.770000</td>\n",
       "      <td>0.344000</td>\n",
       "      <td>6.325000</td>\n",
       "      <td>4.878000</td>\n",
       "      <td>0.000000</td>\n",
       "      <td>0.019500</td>\n",
       "      <td>0.135000</td>\n",
       "      <td>0.000000</td>\n",
       "      <td>0.000000</td>\n",
       "      <td>2.700000</td>\n",
       "      <td>0.400000</td>\n",
       "      <td>4.950000</td>\n",
       "      <td>3.000000</td>\n",
       "    </tr>\n",
       "    <tr>\n",
       "      <th>25%</th>\n",
       "      <td>4.250000</td>\n",
       "      <td>7.800000</td>\n",
       "      <td>9.292500</td>\n",
       "      <td>6.900000</td>\n",
       "      <td>6.325000</td>\n",
       "      <td>7.317000</td>\n",
       "      <td>0.307260</td>\n",
       "      <td>0.276060</td>\n",
       "      <td>0.600000</td>\n",
       "      <td>0.000000</td>\n",
       "      <td>0.000000</td>\n",
       "      <td>14.000000</td>\n",
       "      <td>6.000000</td>\n",
       "      <td>9.900000</td>\n",
       "      <td>12.000000</td>\n",
       "    </tr>\n",
       "    <tr>\n",
       "      <th>50%</th>\n",
       "      <td>10.200000</td>\n",
       "      <td>14.560000</td>\n",
       "      <td>10.620000</td>\n",
       "      <td>10.080000</td>\n",
       "      <td>6.325000</td>\n",
       "      <td>9.756000</td>\n",
       "      <td>0.500000</td>\n",
       "      <td>0.607400</td>\n",
       "      <td>0.600000</td>\n",
       "      <td>4.650000</td>\n",
       "      <td>0.245000</td>\n",
       "      <td>28.000000</td>\n",
       "      <td>14.228571</td>\n",
       "      <td>14.550000</td>\n",
       "      <td>30.600000</td>\n",
       "    </tr>\n",
       "    <tr>\n",
       "      <th>75%</th>\n",
       "      <td>43.842000</td>\n",
       "      <td>30.128000</td>\n",
       "      <td>12.685000</td>\n",
       "      <td>17.031000</td>\n",
       "      <td>12.650000</td>\n",
       "      <td>14.634000</td>\n",
       "      <td>0.871500</td>\n",
       "      <td>1.178900</td>\n",
       "      <td>0.660000</td>\n",
       "      <td>9.937500</td>\n",
       "      <td>0.279030</td>\n",
       "      <td>28.000000</td>\n",
       "      <td>30.000000</td>\n",
       "      <td>19.200000</td>\n",
       "      <td>43.250000</td>\n",
       "    </tr>\n",
       "    <tr>\n",
       "      <th>max</th>\n",
       "      <td>158.160000</td>\n",
       "      <td>105.056500</td>\n",
       "      <td>25.370000</td>\n",
       "      <td>91.860000</td>\n",
       "      <td>25.300000</td>\n",
       "      <td>40.650000</td>\n",
       "      <td>41.561000</td>\n",
       "      <td>80.010000</td>\n",
       "      <td>1.500000</td>\n",
       "      <td>88.000000</td>\n",
       "      <td>1.116120</td>\n",
       "      <td>98.000000</td>\n",
       "      <td>96.000000</td>\n",
       "      <td>19.200000</td>\n",
       "      <td>102.650000</td>\n",
       "    </tr>\n",
       "  </tbody>\n",
       "</table>\n",
       "</div>"
      ],
      "text/plain": [
       "       Bread and flour based products_TotalFats  \\\n",
       "count                               1230.000000   \n",
       "mean                                  24.532122   \n",
       "std                                   28.666160   \n",
       "min                                    0.078000   \n",
       "25%                                    4.250000   \n",
       "50%                                   10.200000   \n",
       "75%                                   43.842000   \n",
       "max                                  158.160000   \n",
       "\n",
       "       Meat and meat products_TotalFats  Fish_TotalFats  \\\n",
       "count                        704.000000       28.000000   \n",
       "mean                          21.283627       10.862321   \n",
       "std                           19.011955        4.843389   \n",
       "min                            0.679200        1.770000   \n",
       "25%                            7.800000        9.292500   \n",
       "50%                           14.560000       10.620000   \n",
       "75%                           30.128000       12.685000   \n",
       "max                          105.056500       25.370000   \n",
       "\n",
       "       Milk and milk products_TotalFats  Eggs_TotalFats  \\\n",
       "count                        836.000000      142.000000   \n",
       "mean                          12.130165        9.442958   \n",
       "std                            9.346032        3.492606   \n",
       "min                            0.344000        6.325000   \n",
       "25%                            6.900000        6.325000   \n",
       "50%                           10.080000        6.325000   \n",
       "75%                           17.031000       12.650000   \n",
       "max                           91.860000       25.300000   \n",
       "\n",
       "       Fat and Oil Products_TotalFats  Fruits_TotalFats  Vegetables_TotalFats  \\\n",
       "count                      132.000000        609.000000            705.000000   \n",
       "mean                        12.044102          0.753820              1.615234   \n",
       "std                          7.562239          1.775363              5.600816   \n",
       "min                          4.878000          0.000000              0.019500   \n",
       "25%                          7.317000          0.307260              0.276060   \n",
       "50%                          9.756000          0.500000              0.607400   \n",
       "75%                         14.634000          0.871500              1.178900   \n",
       "max                         40.650000         41.561000             80.010000   \n",
       "\n",
       "       Potato_TotalFats  Sugar, honey, confectionery_TotalFats  \\\n",
       "count        404.000000                             865.000000   \n",
       "mean           0.593354                               7.695420   \n",
       "std            0.209208                               9.446773   \n",
       "min            0.135000                               0.000000   \n",
       "25%            0.600000                               0.000000   \n",
       "50%            0.600000                               4.650000   \n",
       "75%            0.660000                               9.937500   \n",
       "max            1.500000                              88.000000   \n",
       "\n",
       "       Juices_TotalFats  Salads_TotalFats  Soups_TotalFats  \\\n",
       "count        404.000000        392.000000       298.000000   \n",
       "mean           0.182296         26.600351        15.914370   \n",
       "std            0.208922         15.664740        13.325973   \n",
       "min            0.000000          2.700000         0.400000   \n",
       "25%            0.000000         14.000000         6.000000   \n",
       "50%            0.245000         28.000000        14.228571   \n",
       "75%            0.279030         28.000000        30.000000   \n",
       "max            1.116120         98.000000        96.000000   \n",
       "\n",
       "       Rice dish_TotalFats  Scrambled Eggs_TotalFats  \n",
       "count            33.000000                238.000000  \n",
       "mean             13.615909                 30.230588  \n",
       "std               4.133863                 18.547895  \n",
       "min               4.950000                  3.000000  \n",
       "25%               9.900000                 12.000000  \n",
       "50%              14.550000                 30.600000  \n",
       "75%              19.200000                 43.250000  \n",
       "max              19.200000                102.650000  "
      ]
     },
     "execution_count": 585,
     "metadata": {},
     "output_type": "execute_result"
    }
   ],
   "source": [
    "df6 = data_cleaned[['Bread and flour based products_TotalFats', \n",
    "                    'Meat and meat products_TotalFats', \n",
    "                    'Fish_TotalFats', 'Milk and milk products_TotalFats', \n",
    "                    'Eggs_TotalFats', 'Fat and Oil Products_TotalFats', \n",
    "                    'Fruits_TotalFats', 'Vegetables_TotalFats', 'Potato_TotalFats', \n",
    "                    'Sugar, honey, confectionery_TotalFats', 'Juices_TotalFats',\n",
    "                   'Salads_TotalFats', 'Soups_TotalFats', \n",
    "                    'Rice dish_TotalFats', 'Scrambled Eggs_TotalFats']].describe()\n",
    "df6"
   ]
  },
  {
   "cell_type": "code",
   "execution_count": 586,
   "id": "802116da",
   "metadata": {},
   "outputs": [],
   "source": [
    "#df6.to_excel('/Users/sedastepanyan/Downloads/20-01-2023_11-56-18/Table4.xlsx')\n",
    "#df6.to_excel('C:/Users/User/Desktop/Seda/Our Articles/Nutrient Intake Article 24HR/Database/Tables, figures/Table4.xlsx')"
   ]
  },
  {
   "cell_type": "markdown",
   "id": "04f0accd",
   "metadata": {},
   "source": [
    "# Calculate SimpleCarb received from 11 food groups and 4 mixed dishes \n"
   ]
  },
  {
   "cell_type": "code",
   "execution_count": 587,
   "id": "95e5329d",
   "metadata": {},
   "outputs": [],
   "source": [
    "data_cleaned['Bread and flour based products_SimpleCarb'] = data_cleaned.iloc[:, 944:953].sum(axis=1, min_count = 1)\n",
    "data_cleaned['Meat and meat products_SimpleCarb'] = data_cleaned.iloc[:, 953:960].sum(axis=1, min_count = 1)\n",
    "data_cleaned['Fish_SimpleCarb'] = data_cleaned.iloc[:, 960:961].sum(axis=1, min_count = 1) \n",
    "data_cleaned['Milk and milk products_SimpleCarb'] = data_cleaned.iloc[:, 961:964].sum(axis=1, min_count = 1)\n",
    "data_cleaned['Eggs_SimpleCarb'] = data_cleaned['n14401_SimpleCarb']\n",
    "#data_cleaned['Fat and Oil Products_TotalFats'] = data_cleaned['n15100_TotalFats']\n",
    "data_cleaned['Fruits_SimpleCarb'] = data_cleaned.iloc[:, 965:976].sum(axis=1, min_count = 1)\n",
    "data_cleaned['Vegetables_SimpleCarb'] = data_cleaned.iloc[:, [976, 977, 978, 979, 980, 981, 982, 983, 984, 985, 986, 987, 988, 989, 990]].sum(axis=1, min_count = 1)\n",
    "data_cleaned['Potato_SimpleCarb'] = data_cleaned['n17131_SimpleCarb']\n",
    "data_cleaned['Sugar, honey, confectionery_SimpleCarb'] = data_cleaned.iloc[:, 991:996].sum(axis=1, min_count = 1)\n",
    "#data_cleaned['Juices_SimpleCarb'] = data_cleaned.iloc[:, 926:931].sum(axis=1, min_count = 1)\n",
    "\n",
    "data_cleaned['Salads_SimpleCarb'] = data_cleaned.iloc[:, 937:939].sum(axis=1, min_count = 1)\n",
    "data_cleaned['Soups_SimpleCarb'] = data_cleaned.iloc[:, 939:942].sum(axis=1, min_count = 1)\n",
    "#data_cleaned['Rice dish_SimpleCarb'] = data_cleaned.iloc[:, 796:799].sum(axis=1, min_count = 1)\n",
    "data_cleaned['Scrambled Eggs_SimpleCarb'] = data_cleaned.iloc[:, 942:944].sum(axis=1, min_count = 1)"
   ]
  },
  {
   "cell_type": "markdown",
   "id": "0bce4596",
   "metadata": {},
   "source": [
    "## Below is a table that shows Simple Carb intake (g) received from 11 food groups. "
   ]
  },
  {
   "cell_type": "code",
   "execution_count": 588,
   "id": "57fb7bbe",
   "metadata": {},
   "outputs": [
    {
     "data": {
      "text/html": [
       "<div>\n",
       "<style scoped>\n",
       "    .dataframe tbody tr th:only-of-type {\n",
       "        vertical-align: middle;\n",
       "    }\n",
       "\n",
       "    .dataframe tbody tr th {\n",
       "        vertical-align: top;\n",
       "    }\n",
       "\n",
       "    .dataframe thead th {\n",
       "        text-align: right;\n",
       "    }\n",
       "</style>\n",
       "<table border=\"1\" class=\"dataframe\">\n",
       "  <thead>\n",
       "    <tr style=\"text-align: right;\">\n",
       "      <th></th>\n",
       "      <th>Bread and flour based products_SimpleCarb</th>\n",
       "      <th>Meat and meat products_SimpleCarb</th>\n",
       "      <th>Fish_SimpleCarb</th>\n",
       "      <th>Milk and milk products_SimpleCarb</th>\n",
       "      <th>Eggs_SimpleCarb</th>\n",
       "      <th>Fruits_SimpleCarb</th>\n",
       "      <th>Vegetables_SimpleCarb</th>\n",
       "      <th>Potato_SimpleCarb</th>\n",
       "      <th>Sugar, honey, confectionery_SimpleCarb</th>\n",
       "      <th>Salads_TotalFats</th>\n",
       "      <th>Soups_SimpleCarb</th>\n",
       "      <th>Scrambled Eggs_SimpleCarb</th>\n",
       "    </tr>\n",
       "  </thead>\n",
       "  <tbody>\n",
       "    <tr>\n",
       "      <th>count</th>\n",
       "      <td>1147.000000</td>\n",
       "      <td>556.000000</td>\n",
       "      <td>4.0</td>\n",
       "      <td>265.000000</td>\n",
       "      <td>142.000000</td>\n",
       "      <td>496.000000</td>\n",
       "      <td>830.000000</td>\n",
       "      <td>404.000000</td>\n",
       "      <td>804.000000</td>\n",
       "      <td>392.000000</td>\n",
       "      <td>42.000000</td>\n",
       "      <td>114.000000</td>\n",
       "    </tr>\n",
       "    <tr>\n",
       "      <th>mean</th>\n",
       "      <td>124.746542</td>\n",
       "      <td>3.981833</td>\n",
       "      <td>0.0</td>\n",
       "      <td>11.657083</td>\n",
       "      <td>0.410563</td>\n",
       "      <td>35.842501</td>\n",
       "      <td>20.333651</td>\n",
       "      <td>29.667698</td>\n",
       "      <td>21.323887</td>\n",
       "      <td>26.600351</td>\n",
       "      <td>17.323810</td>\n",
       "      <td>4.026842</td>\n",
       "    </tr>\n",
       "    <tr>\n",
       "      <th>std</th>\n",
       "      <td>83.434853</td>\n",
       "      <td>12.045996</td>\n",
       "      <td>0.0</td>\n",
       "      <td>7.924778</td>\n",
       "      <td>0.151852</td>\n",
       "      <td>32.973035</td>\n",
       "      <td>16.280233</td>\n",
       "      <td>10.460424</td>\n",
       "      <td>19.234064</td>\n",
       "      <td>15.664740</td>\n",
       "      <td>4.789359</td>\n",
       "      <td>3.354228</td>\n",
       "    </tr>\n",
       "    <tr>\n",
       "      <th>min</th>\n",
       "      <td>6.578000</td>\n",
       "      <td>0.000000</td>\n",
       "      <td>0.0</td>\n",
       "      <td>0.124000</td>\n",
       "      <td>0.275000</td>\n",
       "      <td>1.901200</td>\n",
       "      <td>0.031482</td>\n",
       "      <td>6.750000</td>\n",
       "      <td>0.392000</td>\n",
       "      <td>2.700000</td>\n",
       "      <td>9.200000</td>\n",
       "      <td>0.750000</td>\n",
       "    </tr>\n",
       "    <tr>\n",
       "      <th>25%</th>\n",
       "      <td>58.320000</td>\n",
       "      <td>0.000000</td>\n",
       "      <td>0.0</td>\n",
       "      <td>3.920000</td>\n",
       "      <td>0.275000</td>\n",
       "      <td>17.513820</td>\n",
       "      <td>6.270760</td>\n",
       "      <td>30.000000</td>\n",
       "      <td>8.000000</td>\n",
       "      <td>14.000000</td>\n",
       "      <td>14.700000</td>\n",
       "      <td>1.500000</td>\n",
       "    </tr>\n",
       "    <tr>\n",
       "      <th>50%</th>\n",
       "      <td>108.000000</td>\n",
       "      <td>0.000000</td>\n",
       "      <td>0.0</td>\n",
       "      <td>14.112000</td>\n",
       "      <td>0.275000</td>\n",
       "      <td>26.735820</td>\n",
       "      <td>15.642300</td>\n",
       "      <td>30.000000</td>\n",
       "      <td>17.003000</td>\n",
       "      <td>28.000000</td>\n",
       "      <td>17.400000</td>\n",
       "      <td>1.500000</td>\n",
       "    </tr>\n",
       "    <tr>\n",
       "      <th>75%</th>\n",
       "      <td>168.000000</td>\n",
       "      <td>1.539000</td>\n",
       "      <td>0.0</td>\n",
       "      <td>14.112000</td>\n",
       "      <td>0.550000</td>\n",
       "      <td>43.442900</td>\n",
       "      <td>32.694880</td>\n",
       "      <td>33.000000</td>\n",
       "      <td>28.512000</td>\n",
       "      <td>28.000000</td>\n",
       "      <td>17.400000</td>\n",
       "      <td>8.100000</td>\n",
       "    </tr>\n",
       "    <tr>\n",
       "      <th>max</th>\n",
       "      <td>559.965000</td>\n",
       "      <td>133.600000</td>\n",
       "      <td>0.0</td>\n",
       "      <td>41.112000</td>\n",
       "      <td>1.100000</td>\n",
       "      <td>304.000000</td>\n",
       "      <td>81.237560</td>\n",
       "      <td>75.000000</td>\n",
       "      <td>236.800000</td>\n",
       "      <td>98.000000</td>\n",
       "      <td>39.900000</td>\n",
       "      <td>16.200000</td>\n",
       "    </tr>\n",
       "  </tbody>\n",
       "</table>\n",
       "</div>"
      ],
      "text/plain": [
       "       Bread and flour based products_SimpleCarb  \\\n",
       "count                                1147.000000   \n",
       "mean                                  124.746542   \n",
       "std                                    83.434853   \n",
       "min                                     6.578000   \n",
       "25%                                    58.320000   \n",
       "50%                                   108.000000   \n",
       "75%                                   168.000000   \n",
       "max                                   559.965000   \n",
       "\n",
       "       Meat and meat products_SimpleCarb  Fish_SimpleCarb  \\\n",
       "count                         556.000000              4.0   \n",
       "mean                            3.981833              0.0   \n",
       "std                            12.045996              0.0   \n",
       "min                             0.000000              0.0   \n",
       "25%                             0.000000              0.0   \n",
       "50%                             0.000000              0.0   \n",
       "75%                             1.539000              0.0   \n",
       "max                           133.600000              0.0   \n",
       "\n",
       "       Milk and milk products_SimpleCarb  Eggs_SimpleCarb  Fruits_SimpleCarb  \\\n",
       "count                         265.000000       142.000000         496.000000   \n",
       "mean                           11.657083         0.410563          35.842501   \n",
       "std                             7.924778         0.151852          32.973035   \n",
       "min                             0.124000         0.275000           1.901200   \n",
       "25%                             3.920000         0.275000          17.513820   \n",
       "50%                            14.112000         0.275000          26.735820   \n",
       "75%                            14.112000         0.550000          43.442900   \n",
       "max                            41.112000         1.100000         304.000000   \n",
       "\n",
       "       Vegetables_SimpleCarb  Potato_SimpleCarb  \\\n",
       "count             830.000000         404.000000   \n",
       "mean               20.333651          29.667698   \n",
       "std                16.280233          10.460424   \n",
       "min                 0.031482           6.750000   \n",
       "25%                 6.270760          30.000000   \n",
       "50%                15.642300          30.000000   \n",
       "75%                32.694880          33.000000   \n",
       "max                81.237560          75.000000   \n",
       "\n",
       "       Sugar, honey, confectionery_SimpleCarb  Salads_TotalFats  \\\n",
       "count                              804.000000        392.000000   \n",
       "mean                                21.323887         26.600351   \n",
       "std                                 19.234064         15.664740   \n",
       "min                                  0.392000          2.700000   \n",
       "25%                                  8.000000         14.000000   \n",
       "50%                                 17.003000         28.000000   \n",
       "75%                                 28.512000         28.000000   \n",
       "max                                236.800000         98.000000   \n",
       "\n",
       "       Soups_SimpleCarb  Scrambled Eggs_SimpleCarb  \n",
       "count         42.000000                 114.000000  \n",
       "mean          17.323810                   4.026842  \n",
       "std            4.789359                   3.354228  \n",
       "min            9.200000                   0.750000  \n",
       "25%           14.700000                   1.500000  \n",
       "50%           17.400000                   1.500000  \n",
       "75%           17.400000                   8.100000  \n",
       "max           39.900000                  16.200000  "
      ]
     },
     "execution_count": 588,
     "metadata": {},
     "output_type": "execute_result"
    }
   ],
   "source": [
    "df7 = data_cleaned[['Bread and flour based products_SimpleCarb', \n",
    "                    'Meat and meat products_SimpleCarb', \n",
    "                    'Fish_SimpleCarb', 'Milk and milk products_SimpleCarb', \n",
    "                    'Eggs_SimpleCarb',  \n",
    "                    'Fruits_SimpleCarb', 'Vegetables_SimpleCarb', 'Potato_SimpleCarb', \n",
    "                    'Sugar, honey, confectionery_SimpleCarb', \n",
    "                   'Salads_TotalFats', 'Soups_SimpleCarb', \n",
    "                    'Scrambled Eggs_SimpleCarb']].describe()\n",
    "df7"
   ]
  },
  {
   "cell_type": "code",
   "execution_count": 592,
   "id": "2e24c52d",
   "metadata": {},
   "outputs": [],
   "source": [
    "df7.to_excel('/Users/sedastepanyan/Downloads/Table7.xlsx')"
   ]
  },
  {
   "cell_type": "markdown",
   "id": "69b287ec",
   "metadata": {},
   "source": [
    "# Calculate Sugar received from 11 food groups and 4 mixed dishes \n"
   ]
  },
  {
   "cell_type": "code",
   "execution_count": 589,
   "id": "fb46d753",
   "metadata": {},
   "outputs": [],
   "source": [
    "data_cleaned['Bread and flour based products_Sugar'] = data_cleaned.iloc[:, 996:1006].sum(axis=1, min_count = 1)\n",
    "#data_cleaned['Meat and meat products_SimpleCarb'] = data_cleaned.iloc[:, 953:960].sum(axis=1, min_count = 1)\n",
    "#data_cleaned['Fish_SimpleCarb'] = data_cleaned.iloc[:, 960:961].sum(axis=1, min_count = 1) \n",
    "data_cleaned['Milk and milk products_Sugar'] = data_cleaned.iloc[:, 1006:1010].sum(axis=1, min_count = 1)\n",
    "#data_cleaned['Eggs_SimpleCarb'] = data_cleaned['n14401_SimpleCarb']\n",
    "#data_cleaned['Fat and Oil Products_TotalFats'] = data_cleaned['n15100_TotalFats']\n",
    "data_cleaned['Fruits_Sugar'] = data_cleaned.iloc[:, 1010:1029].sum(axis=1, min_count = 1)\n",
    "data_cleaned['Vegetables_Sugar'] = data_cleaned.iloc[:, [1029, 1030, 1031, 1032, 1033, 1034, 1035, 1036, 1037, 1038, 1039, 1040, 1041, 1042, 1043, 1044, 1045, 1046]].sum(axis=1, min_count = 1)\n",
    "#data_cleaned['Potato_SimpleCarb'] = data_cleaned['n17131_SimpleCarb']\n",
    "data_cleaned['Sugar, honey, confectionery_Sugar'] = data_cleaned.iloc[:, 1047:1054].sum(axis=1, min_count = 1)\n",
    "#data_cleaned['Juices_SimpleCarb'] = data_cleaned.iloc[:, 926:931].sum(axis=1, min_count = 1)\n",
    "\n",
    "#data_cleaned['Salads_SimpleCarb'] = data_cleaned.iloc[:, 937:939].sum(axis=1, min_count = 1)\n",
    "#data_cleaned['Soups_SimpleCarb'] = data_cleaned.iloc[:, 939:942].sum(axis=1, min_count = 1)\n",
    "#data_cleaned['Rice dish_SimpleCarb'] = data_cleaned.iloc[:, 796:799].sum(axis=1, min_count = 1)\n",
    "#data_cleaned['Scrambled Eggs_SimpleCarb'] = data_cleaned.iloc[:, 942:944].sum(axis=1, min_count = 1)"
   ]
  },
  {
   "cell_type": "markdown",
   "id": "3e88900e",
   "metadata": {},
   "source": [
    "## Below is a table that shows Sugar intake (g) received from 11 food groups. "
   ]
  },
  {
   "cell_type": "code",
   "execution_count": 590,
   "id": "a37af70b",
   "metadata": {
    "scrolled": true
   },
   "outputs": [
    {
     "data": {
      "text/html": [
       "<div>\n",
       "<style scoped>\n",
       "    .dataframe tbody tr th:only-of-type {\n",
       "        vertical-align: middle;\n",
       "    }\n",
       "\n",
       "    .dataframe tbody tr th {\n",
       "        vertical-align: top;\n",
       "    }\n",
       "\n",
       "    .dataframe thead th {\n",
       "        text-align: right;\n",
       "    }\n",
       "</style>\n",
       "<table border=\"1\" class=\"dataframe\">\n",
       "  <thead>\n",
       "    <tr style=\"text-align: right;\">\n",
       "      <th></th>\n",
       "      <th>Bread and flour based products_Sugar</th>\n",
       "      <th>Milk and milk products_Sugar</th>\n",
       "      <th>Fruits_Sugar</th>\n",
       "      <th>Vegetables_Sugar</th>\n",
       "      <th>Sugar, honey, confectionery_Sugar</th>\n",
       "    </tr>\n",
       "  </thead>\n",
       "  <tbody>\n",
       "    <tr>\n",
       "      <th>count</th>\n",
       "      <td>1169.000000</td>\n",
       "      <td>116.000000</td>\n",
       "      <td>604.000000</td>\n",
       "      <td>830.000000</td>\n",
       "      <td>846.000000</td>\n",
       "    </tr>\n",
       "    <tr>\n",
       "      <th>mean</th>\n",
       "      <td>9.753619</td>\n",
       "      <td>6.920331</td>\n",
       "      <td>20.591018</td>\n",
       "      <td>3.965698</td>\n",
       "      <td>22.806065</td>\n",
       "    </tr>\n",
       "    <tr>\n",
       "      <th>std</th>\n",
       "      <td>15.030616</td>\n",
       "      <td>17.508081</td>\n",
       "      <td>20.941437</td>\n",
       "      <td>4.169129</td>\n",
       "      <td>20.921817</td>\n",
       "    </tr>\n",
       "    <tr>\n",
       "      <th>min</th>\n",
       "      <td>0.003900</td>\n",
       "      <td>0.258000</td>\n",
       "      <td>0.492100</td>\n",
       "      <td>0.000954</td>\n",
       "      <td>1.589250</td>\n",
       "    </tr>\n",
       "    <tr>\n",
       "      <th>25%</th>\n",
       "      <td>1.335000</td>\n",
       "      <td>1.410000</td>\n",
       "      <td>7.666137</td>\n",
       "      <td>0.176000</td>\n",
       "      <td>8.000000</td>\n",
       "    </tr>\n",
       "    <tr>\n",
       "      <th>50%</th>\n",
       "      <td>2.696616</td>\n",
       "      <td>1.410000</td>\n",
       "      <td>15.332274</td>\n",
       "      <td>2.838112</td>\n",
       "      <td>17.497500</td>\n",
       "    </tr>\n",
       "    <tr>\n",
       "      <th>75%</th>\n",
       "      <td>8.088750</td>\n",
       "      <td>1.598000</td>\n",
       "      <td>27.021137</td>\n",
       "      <td>6.196147</td>\n",
       "      <td>30.650625</td>\n",
       "    </tr>\n",
       "    <tr>\n",
       "      <th>max</th>\n",
       "      <td>105.257800</td>\n",
       "      <td>108.000000</td>\n",
       "      <td>216.800000</td>\n",
       "      <td>24.265020</td>\n",
       "      <td>271.520000</td>\n",
       "    </tr>\n",
       "  </tbody>\n",
       "</table>\n",
       "</div>"
      ],
      "text/plain": [
       "       Bread and flour based products_Sugar  Milk and milk products_Sugar  \\\n",
       "count                           1169.000000                    116.000000   \n",
       "mean                               9.753619                      6.920331   \n",
       "std                               15.030616                     17.508081   \n",
       "min                                0.003900                      0.258000   \n",
       "25%                                1.335000                      1.410000   \n",
       "50%                                2.696616                      1.410000   \n",
       "75%                                8.088750                      1.598000   \n",
       "max                              105.257800                    108.000000   \n",
       "\n",
       "       Fruits_Sugar  Vegetables_Sugar  Sugar, honey, confectionery_Sugar  \n",
       "count    604.000000        830.000000                         846.000000  \n",
       "mean      20.591018          3.965698                          22.806065  \n",
       "std       20.941437          4.169129                          20.921817  \n",
       "min        0.492100          0.000954                           1.589250  \n",
       "25%        7.666137          0.176000                           8.000000  \n",
       "50%       15.332274          2.838112                          17.497500  \n",
       "75%       27.021137          6.196147                          30.650625  \n",
       "max      216.800000         24.265020                         271.520000  "
      ]
     },
     "execution_count": 590,
     "metadata": {},
     "output_type": "execute_result"
    }
   ],
   "source": [
    "df8 = data_cleaned[['Bread and flour based products_Sugar', \n",
    "                     'Milk and milk products_Sugar',  \n",
    "                    'Fruits_Sugar', 'Vegetables_Sugar', \n",
    "                    'Sugar, honey, confectionery_Sugar']].describe()\n",
    "df8"
   ]
  },
  {
   "cell_type": "code",
   "execution_count": 593,
   "id": "63c0f835",
   "metadata": {},
   "outputs": [],
   "source": [
    "df8.to_excel('/Users/sedastepanyan/Downloads/Table8.xlsx')"
   ]
  },
  {
   "cell_type": "code",
   "execution_count": null,
   "id": "4335d35a",
   "metadata": {},
   "outputs": [],
   "source": []
  },
  {
   "cell_type": "markdown",
   "id": "46da9504",
   "metadata": {},
   "source": [
    "## Below is a table that shows macronutrient intake"
   ]
  },
  {
   "cell_type": "code",
   "execution_count": 591,
   "id": "4f60a194",
   "metadata": {},
   "outputs": [
    {
     "data": {
      "text/html": [
       "<div>\n",
       "<style scoped>\n",
       "    .dataframe tbody tr th:only-of-type {\n",
       "        vertical-align: middle;\n",
       "    }\n",
       "\n",
       "    .dataframe tbody tr th {\n",
       "        vertical-align: top;\n",
       "    }\n",
       "\n",
       "    .dataframe thead th {\n",
       "        text-align: right;\n",
       "    }\n",
       "</style>\n",
       "<table border=\"1\" class=\"dataframe\">\n",
       "  <thead>\n",
       "    <tr style=\"text-align: right;\">\n",
       "      <th></th>\n",
       "      <th>EnergyAll</th>\n",
       "      <th>CarbohydrateAll</th>\n",
       "      <th>ProteinAll</th>\n",
       "      <th>TotalFatsAll</th>\n",
       "      <th>SimpleCarbAll</th>\n",
       "      <th>SugarAll</th>\n",
       "    </tr>\n",
       "  </thead>\n",
       "  <tbody>\n",
       "    <tr>\n",
       "      <th>count</th>\n",
       "      <td>1286.000000</td>\n",
       "      <td>1286.000000</td>\n",
       "      <td>1286.000000</td>\n",
       "      <td>1286.000000</td>\n",
       "      <td>1286.000000</td>\n",
       "      <td>1286.000000</td>\n",
       "    </tr>\n",
       "    <tr>\n",
       "      <th>mean</th>\n",
       "      <td>1738.787144</td>\n",
       "      <td>209.573129</td>\n",
       "      <td>71.506149</td>\n",
       "      <td>69.918826</td>\n",
       "      <td>156.634126</td>\n",
       "      <td>36.724086</td>\n",
       "    </tr>\n",
       "    <tr>\n",
       "      <th>std</th>\n",
       "      <td>788.235467</td>\n",
       "      <td>102.825203</td>\n",
       "      <td>38.626564</td>\n",
       "      <td>41.435756</td>\n",
       "      <td>95.564502</td>\n",
       "      <td>31.215442</td>\n",
       "    </tr>\n",
       "    <tr>\n",
       "      <th>min</th>\n",
       "      <td>33.320000</td>\n",
       "      <td>2.283000</td>\n",
       "      <td>2.150000</td>\n",
       "      <td>0.392000</td>\n",
       "      <td>0.000000</td>\n",
       "      <td>0.000000</td>\n",
       "    </tr>\n",
       "    <tr>\n",
       "      <th>25%</th>\n",
       "      <td>1173.757700</td>\n",
       "      <td>133.960855</td>\n",
       "      <td>41.604905</td>\n",
       "      <td>36.618825</td>\n",
       "      <td>86.000000</td>\n",
       "      <td>13.178608</td>\n",
       "    </tr>\n",
       "    <tr>\n",
       "      <th>50%</th>\n",
       "      <td>1643.244800</td>\n",
       "      <td>194.915000</td>\n",
       "      <td>65.444522</td>\n",
       "      <td>65.613440</td>\n",
       "      <td>143.272540</td>\n",
       "      <td>30.432950</td>\n",
       "    </tr>\n",
       "    <tr>\n",
       "      <th>75%</th>\n",
       "      <td>2270.204250</td>\n",
       "      <td>274.217090</td>\n",
       "      <td>95.352647</td>\n",
       "      <td>97.556335</td>\n",
       "      <td>211.734453</td>\n",
       "      <td>52.876173</td>\n",
       "    </tr>\n",
       "    <tr>\n",
       "      <th>max</th>\n",
       "      <td>4061.293550</td>\n",
       "      <td>522.910520</td>\n",
       "      <td>195.259720</td>\n",
       "      <td>198.569000</td>\n",
       "      <td>635.964000</td>\n",
       "      <td>271.520000</td>\n",
       "    </tr>\n",
       "  </tbody>\n",
       "</table>\n",
       "</div>"
      ],
      "text/plain": [
       "         EnergyAll  CarbohydrateAll   ProteinAll  TotalFatsAll  SimpleCarbAll  \\\n",
       "count  1286.000000      1286.000000  1286.000000   1286.000000    1286.000000   \n",
       "mean   1738.787144       209.573129    71.506149     69.918826     156.634126   \n",
       "std     788.235467       102.825203    38.626564     41.435756      95.564502   \n",
       "min      33.320000         2.283000     2.150000      0.392000       0.000000   \n",
       "25%    1173.757700       133.960855    41.604905     36.618825      86.000000   \n",
       "50%    1643.244800       194.915000    65.444522     65.613440     143.272540   \n",
       "75%    2270.204250       274.217090    95.352647     97.556335     211.734453   \n",
       "max    4061.293550       522.910520   195.259720    198.569000     635.964000   \n",
       "\n",
       "          SugarAll  \n",
       "count  1286.000000  \n",
       "mean     36.724086  \n",
       "std      31.215442  \n",
       "min       0.000000  \n",
       "25%      13.178608  \n",
       "50%      30.432950  \n",
       "75%      52.876173  \n",
       "max     271.520000  "
      ]
     },
     "execution_count": 591,
     "metadata": {},
     "output_type": "execute_result"
    }
   ],
   "source": [
    "df9 = data_cleaned[['EnergyAll', \n",
    "                    'CarbohydrateAll', \n",
    "                    'ProteinAll', \n",
    "                    'TotalFatsAll', \n",
    "                    'SimpleCarbAll', \n",
    "                   'SugarAll']].describe()\n",
    "df9"
   ]
  },
  {
   "cell_type": "code",
   "execution_count": null,
   "id": "5bb4cee6",
   "metadata": {},
   "outputs": [],
   "source": []
  },
  {
   "cell_type": "code",
   "execution_count": null,
   "id": "a5613507",
   "metadata": {},
   "outputs": [],
   "source": [
    "df2 = data_cleaned.groupby('Gender')['EnergyAll'].describe()\n",
    "df2"
   ]
  },
  {
   "cell_type": "markdown",
   "id": "81badec2",
   "metadata": {},
   "source": [
    "## Conduct T test to see if the Energy intake is statistically different between male and female."
   ]
  },
  {
   "cell_type": "code",
   "execution_count": null,
   "id": "7d2d0b68",
   "metadata": {},
   "outputs": [],
   "source": [
    "A=data_cleaned[data_cleaned['Gender']=='Male']['EnergyAll'].values.tolist()\n",
    "B=data_cleaned[data_cleaned['Gender']=='Female']['EnergyAll'].values.tolist()"
   ]
  },
  {
   "cell_type": "code",
   "execution_count": null,
   "id": "bb6dc19d",
   "metadata": {},
   "outputs": [],
   "source": [
    "from scipy import stats\n",
    "t_check=stats.ttest_ind(A,B)\n",
    "t_check\n",
    "alpha=0.05\n",
    "if(t_check[1]<alpha):\n",
    "    print('Energy intake is statistically different between male and female')"
   ]
  },
  {
   "cell_type": "markdown",
   "id": "df20f53a",
   "metadata": {},
   "source": [
    "## Conduct Mann-Whitney U test to see if the Energy intake is statistically different between male and female."
   ]
  },
  {
   "cell_type": "code",
   "execution_count": null,
   "id": "3ca122e4",
   "metadata": {},
   "outputs": [],
   "source": [
    "stat, p_value = stats.mannwhitneyu(A, B)\n",
    "print(f\" Mann–Whitney U Test: statistic={stat:.4f}, p-value={p_value:.4f}\")"
   ]
  },
  {
   "cell_type": "code",
   "execution_count": null,
   "id": "8c82925f",
   "metadata": {},
   "outputs": [],
   "source": [
    "#data_cleaned.to_csv('/Users/sedastepanyan/Downloads/20-01-2023_11-56-18/TDS DB MD All BMI Cleaned.csv')\n",
    "data_cleaned.to_csv('C:/Users/User/Desktop/Seda/Our Articles/Nutrient Intake Article 24HR/Database/TDS DB MD All BMI Cleaned.csv')"
   ]
  },
  {
   "cell_type": "markdown",
   "id": "e30ffce8",
   "metadata": {},
   "source": [
    "## Below is the consumption of 11 food groups and mixed dishes."
   ]
  },
  {
   "cell_type": "code",
   "execution_count": null,
   "id": "3100147e",
   "metadata": {},
   "outputs": [],
   "source": [
    "#Convert to numeric starting from \"n11102_Energy\" to 'n22305_TotalFats' (930). Note, that 930 is not inclusive.\n",
    "data_cleaned.iloc[:, 63:234] = data_cleaned.iloc[:, 63:234].apply(pd.to_numeric, errors = 'coerce')\n",
    "\n",
    "#Convert to numeric starting from \"n101\" to 'n499' (930). Note, that 61 is not inclusive.\n",
    "data_cleaned.iloc[:, 22:62] = data_cleaned.iloc[:, 22:62].apply(pd.to_numeric, errors = 'coerce')"
   ]
  },
  {
   "cell_type": "code",
   "execution_count": null,
   "id": "5bd3ded9",
   "metadata": {},
   "outputs": [],
   "source": [
    "#Food groups\n",
    "data_cleaned['Bread and flour based products_Intake'] = data_cleaned.iloc[:, [63, 64, 66, 67, 68, 69, 70, 74, 75, 76, 77, 78, 79, 80, 81, 82, 83, 84, 85, 86, 87, 88, 90, 91]].sum(axis=1, min_count = 1)\n",
    "data_cleaned['Meat and meat products_Intake'] = data_cleaned.iloc[:, [93, 95, 97, 101, 102, 103, 104, 105, 106, 107, 109, 110, 111, 112, 114, 115, 116]].sum(axis=1, min_count = 1)\n",
    "data_cleaned['Fish_Intake'] = data_cleaned.iloc[:, 117:127].sum(axis=1, min_count = 1) \n",
    "data_cleaned['Milk and milk products_Intake'] = data_cleaned.iloc[:, [127, 129, 131, 132, 133, 134, 135, 137, 139, 142]].sum(axis=1, min_count = 1)\n",
    "data_cleaned['Eggs_Intake'] = data_cleaned['n14401']\n",
    "data_cleaned['Fat and Oil Products_Intake'] = data_cleaned['n15100']\n",
    "data_cleaned['Fruits_Intake'] = data_cleaned.iloc[:, [146, 147, 149, 150, 151, 152, 153, 154, 155, 157, 158, 159, 160, 161, 162, 163, 164, 165, 166, 171, 172]].sum(axis=1, min_count = 1)\n",
    "data_cleaned['Fruits_Intake (Excluding watermelon and melon)'] = data_cleaned.iloc[:, [146, 147, 149, 150, 151, 152, 153, 154, 155, 157, 158, 159, 160, 161, 162, 163, 166, 171, 172]].sum(axis=1, min_count = 1)\n",
    "data_cleaned['Fruits_and_Vegetables_Intake (Excluding watermelon and melon)'] = data_cleaned.iloc[:, [146, 147, 149, 150, 151, 152, 153, 154, 155, 157, 158, 159, 160, 161, 162, 163, 166, 171, 172,173, 174, 176, 178, 179, 180, 181, 182, 184, 185, 186, 188, 189, 190, 191, 192, 195, 196, 197, 199, 201, 204, 205]].sum(axis=1, min_count = 1)\n",
    "data_cleaned['Fruits_and_Vegetables_Intake (With watermelon and melon)'] = data_cleaned.iloc[:, [146, 147, 149, 150, 151, 152, 153, 154, 155, 157, 158, 159, 160, 161, 162, 163, 164, 165, 166, 171, 172,173, 174, 176, 178, 179, 180, 181, 182, 184, 185, 186, 188, 189, 190, 191, 192, 195, 196, 197, 199, 201, 204, 205]].sum(axis=1, min_count = 1)\n",
    "data_cleaned['Vegetables_Intake'] = data_cleaned.iloc[:, [172, 173, 174, 176, 178, 179, 180, 181, 182, 184, 185, 186, 188, 189, 190, 191, 192, 195, 196, 197, 199, 201, 204, 205]].sum(axis=1, min_count = 1)\n",
    "data_cleaned['Potato_Intake'] = data_cleaned['n17131']\n",
    "data_cleaned['Sugar, honey, confectionery_Intake'] = data_cleaned.iloc[:, [206, 207, 208, 210, 211, 212, 213, 214, 216, 217, 218, 219, 229]].sum(axis=1, min_count = 1)\n",
    "data_cleaned['Juices_Intake'] = data_cleaned.iloc[:, 229:234].sum(axis=1, min_count = 1)"
   ]
  },
  {
   "cell_type": "code",
   "execution_count": null,
   "id": "1073126e",
   "metadata": {},
   "outputs": [],
   "source": [
    "#Mixed Dishes\n",
    "data_cleaned['Salads'] = data_cleaned.iloc[:, 22:35].sum(axis=1, min_count = 1)\n",
    "data_cleaned['Soups'] = data_cleaned.iloc[:, 36:50].sum(axis=1, min_count = 1)\n",
    "data_cleaned['Rice dish'] = data_cleaned.iloc[:, 51:53].sum(axis=1, min_count = 1) \n",
    "data_cleaned['Scrambled Eggs'] = data_cleaned.iloc[:, 54:61].sum(axis=1, min_count = 1)"
   ]
  },
  {
   "cell_type": "code",
   "execution_count": null,
   "id": "66c194d8",
   "metadata": {},
   "outputs": [],
   "source": []
  },
  {
   "cell_type": "code",
   "execution_count": null,
   "id": "3add39ad",
   "metadata": {},
   "outputs": [],
   "source": [
    "#data_cleaned.to_csv('/Users/sedastepanyan/Downloads/20-01-2023_11-56-18/TDS DB MD All BMI Cleaned Consumption.csv')\n",
    "data_cleaned.to_csv('C:/Users/User/Desktop/Seda/Our Articles/Nutrient Intake Article 24HR/Database/TDS DB MD All BMI Cleaned Consumnption.csv')"
   ]
  },
  {
   "cell_type": "code",
   "execution_count": null,
   "id": "b0f3c114",
   "metadata": {},
   "outputs": [],
   "source": [
    "df77 = data_cleaned[['Bread and flour based products_Intake', \n",
    "                    'Meat and meat products_Intake', \n",
    "                    'Fish_Intake', 'Milk and milk products_Intake', \n",
    "                    'Eggs_Intake', 'Fat and Oil Products_Intake', \n",
    "                    'Fruits_Intake', 'Vegetables_Intake', 'Potato_Intake', \n",
    "                    'Sugar, honey, confectionery_Intake', 'Juices_Intake', \n",
    "                    'Fruits_Intake (Excluding watermelon and melon)', \n",
    "                   'Fruits_and_Vegetables_Intake (Excluding watermelon and melon)',\n",
    "                   'Fruits_and_Vegetables_Intake (With watermelon and melon)']].describe()\n",
    "df77"
   ]
  },
  {
   "cell_type": "code",
   "execution_count": null,
   "id": "ddba1882",
   "metadata": {},
   "outputs": [],
   "source": [
    "df_md = data_cleaned[['Salads', \n",
    "                    'Soups', \n",
    "                    'Rice dish', \n",
    "                    'Scrambled Eggs']].describe()\n",
    "df_md"
   ]
  },
  {
   "cell_type": "code",
   "execution_count": null,
   "id": "611a0e5e",
   "metadata": {},
   "outputs": [],
   "source": [
    "data_cleaned.iloc[:, 36:50].describe()"
   ]
  },
  {
   "cell_type": "code",
   "execution_count": null,
   "id": "3f22179e",
   "metadata": {},
   "outputs": [],
   "source": [
    "column = data_cleaned['Fruits_and_Vegetables_Intake (Excluding watermelon and melon)']\n",
    "count = column[column >= 400].count()\n",
    "count\n",
    "\n",
    "column = data_cleaned['Fruits_and_Vegetables_Intake (With watermelon and melon)']\n",
    "count = column[column >= 400].count()\n",
    "count\n",
    "\n",
    "count_new = len(data_cleaned[(data_cleaned['Fruits_and_Vegetables_Intake (Excluding watermelon and melon)']>=400) & \n",
    "         (data_cleaned['Fruits_and_Vegetables_Intake (Excluding watermelon and melon)']<=500)])\n",
    "count_new"
   ]
  },
  {
   "cell_type": "code",
   "execution_count": null,
   "id": "ebd4ecaf",
   "metadata": {},
   "outputs": [],
   "source": []
  },
  {
   "cell_type": "code",
   "execution_count": null,
   "id": "c7c25628",
   "metadata": {},
   "outputs": [],
   "source": [
    "df88 = data_cleaned[['Bread and flour based products_Intake', \n",
    "                    'Meat and meat products_Intake', \n",
    "                    'Fish_Intake', 'Milk and milk products_Intake', \n",
    "                    'Eggs_Intake', 'Fat and Oil Products_Intake', \n",
    "                    'Fruits_Intake', 'Vegetables_Intake', 'Potato_Intake', \n",
    "                    'Sugar, honey, confectionery_Intake', 'Juices_Intake']]\n",
    "#df88"
   ]
  },
  {
   "cell_type": "code",
   "execution_count": null,
   "id": "4908c974",
   "metadata": {},
   "outputs": [],
   "source": [
    "plt.figure(figsize=(15,8))\n",
    "ax = sns.barplot(data=df8, orient = 'h', ci = None)\n",
    "\n",
    "ax.set_title('Consumption of main food groups (g) ')\n",
    "ax.set_xlabel('Consumption (g)')\n"
   ]
  },
  {
   "cell_type": "code",
   "execution_count": null,
   "id": "2e14ede8",
   "metadata": {},
   "outputs": [],
   "source": [
    "# This is a copy of the above calculation just to rename the food groups...\n",
    "data_cleaned['Bread and flour based products'] = data_cleaned.iloc[:, [63, 64, 66, 67, 68, 69, 70, 74, 75, 76, 77, 78, 79, 80, 81, 82, 83, 84, 85, 86, 87, 88, 90, 91]].sum(axis=1, min_count = 1)\n",
    "data_cleaned['Meat and meat products'] = data_cleaned.iloc[:, [93, 95, 97, 101, 102, 103, 104, 105, 106, 107, 109, 110, 111, 112, 114, 115, 116]].sum(axis=1, min_count = 1)\n",
    "data_cleaned['Fish'] = data_cleaned.iloc[:, 117:127].sum(axis=1, min_count = 1) \n",
    "data_cleaned['Milk and milk products'] = data_cleaned.iloc[:, [127, 129, 131, 132, 133, 134, 135, 137, 139, 142]].sum(axis=1, min_count = 1)\n",
    "data_cleaned['Eggs'] = data_cleaned['n14401']\n",
    "data_cleaned['Fat and Oil Products'] = data_cleaned['n15100']\n",
    "data_cleaned['Fruits'] = data_cleaned.iloc[:, [146, 147, 149, 150, 151, 152, 153, 154, 155, 157, 158, 159, 160, 161, 162, 163, 164, 165, 166, 171, 172]].sum(axis=1, min_count = 1)\n",
    "data_cleaned['Vegetables'] = data_cleaned.iloc[:, [172, 173, 174, 176, 178, 179, 180, 181, 182, 184, 185, 186, 188, 189, 190, 191, 192, 195, 196, 197, 199, 201, 204, 205]].sum(axis=1, min_count = 1)\n",
    "data_cleaned['Potatoes'] = data_cleaned['n17131']\n",
    "data_cleaned['Sugar, honey, confectionery'] = data_cleaned.iloc[:, [206, 207, 208, 210, 211, 212, 213, 214, 216, 217, 218, 219, 229]].sum(axis=1, min_count = 1)\n",
    "data_cleaned['Juices'] = data_cleaned.iloc[:, 229:234].sum(axis=1, min_count = 1)"
   ]
  },
  {
   "cell_type": "code",
   "execution_count": null,
   "id": "67f2c3f7",
   "metadata": {},
   "outputs": [],
   "source": [
    "# This is a copy of the above calculation just to rename the food groups...\n",
    "df99 = data_cleaned[['Bread and flour based products', \n",
    "                    'Meat and meat products', \n",
    "                    'Fish', 'Milk and milk products', \n",
    "                    'Eggs', 'Fat and Oil Products', \n",
    "                    'Fruits', 'Vegetables', 'Potatoes', \n",
    "                    'Sugar, honey, confectionery', 'Juices',\n",
    "                    'Salads', 'Soups', 'Rice dish', 'Scrambled Eggs']]\n",
    "#df99"
   ]
  },
  {
   "cell_type": "code",
   "execution_count": null,
   "id": "636a4c8c",
   "metadata": {
    "scrolled": false
   },
   "outputs": [],
   "source": [
    "# This is a copy of the above calculation just to rename the food groups...\n",
    "plt.rcParams.update({'font.size': 14})\n",
    "#plt.figure(figsize=(15,8))\n",
    "ax = sns.barplot(data=df9, orient = 'h', ci = None)\n",
    "\n",
    "ax.set_title('Consumption of food groups and mixed dishes (g) ', weight='bold')\n",
    "ax.set_xlabel('Consumption (g)',fontsize = 14, weight='bold')\n"
   ]
  },
  {
   "cell_type": "code",
   "execution_count": null,
   "id": "bf8b9c23",
   "metadata": {},
   "outputs": [],
   "source": [
    "figure = ax.get_figure()    \n",
    "figure.savefig('Consumption of main food groups and mixed dishes (g).png', dpi=400, bbox_inches='tight')"
   ]
  },
  {
   "cell_type": "code",
   "execution_count": null,
   "id": "d0f41aa0",
   "metadata": {
    "scrolled": true
   },
   "outputs": [],
   "source": [
    "df10 = data_cleaned[[\n",
    "                     \n",
    "'n12101', #beef and veal\n",
    "'n12111', #pork\n",
    "'n12201', #chicken meat\n",
    "'n12499', #khash\n",
    "'n12501', #sausages\n",
    "'n12502', \n",
    "'n12503',\n",
    "'n12504',\n",
    "'n12505', #sausages\n",
    "'n12599',\n",
    "'n12603',\n",
    "'n12605', #meat cutlets\n",
    "'n12606',\n",
    "'n12607',\n",
    "'n12609',\n",
    "'n12610',\n",
    "'n12699'\n",
    "]].describe()\n",
    "df10                 "
   ]
  },
  {
   "cell_type": "code",
   "execution_count": null,
   "id": "41a1abd7",
   "metadata": {},
   "outputs": [],
   "source": [
    "df11 = data_cleaned[['n11501', 'n11502', 'n11503', 'n11599']].describe()\n",
    "df11"
   ]
  },
  {
   "cell_type": "code",
   "execution_count": null,
   "id": "ee2132ec",
   "metadata": {},
   "outputs": [],
   "source": [
    "df12 = data_cleaned[['n11600', 'n11611', 'n11612', 'n11613', 'n11614', 'n11615', 'n11616', 'n11617']].describe()\n",
    "df12"
   ]
  },
  {
   "cell_type": "code",
   "execution_count": null,
   "id": "77ee3973",
   "metadata": {},
   "outputs": [],
   "source": [
    "df13 = data_cleaned[['n18102', 'n18201', 'n18202', 'n18212', 'n18220', 'n18300', 'n18401', 'n18402', 'n18405', 'n18500', 'n19103', 'n19104']].describe()\n",
    "df13"
   ]
  },
  {
   "cell_type": "code",
   "execution_count": null,
   "id": "126f0da5",
   "metadata": {},
   "outputs": [],
   "source": [
    "df14 = data_cleaned[['n11102', 'n11104','n11107', 'n11110']].describe()\n",
    "df14                 #groat,    oat,    buckwheat, rice\n"
   ]
  },
  {
   "cell_type": "code",
   "execution_count": null,
   "id": "128893a0",
   "metadata": {},
   "outputs": [],
   "source": [
    "data_cleaned['Cereal_Intake'] = data_cleaned.iloc[:, [63, 64, 67, 70]].sum(axis=1, min_count = 1)\n",
    "data_cleaned['Cereal_Intake'].describe()"
   ]
  },
  {
   "cell_type": "code",
   "execution_count": null,
   "id": "403b9bc9",
   "metadata": {},
   "outputs": [],
   "source": [
    "data.columns.get_loc(\"n11110\")"
   ]
  },
  {
   "cell_type": "markdown",
   "id": "76effbe0",
   "metadata": {},
   "source": [
    "## Create Age Groups"
   ]
  },
  {
   "cell_type": "code",
   "execution_count": null,
   "id": "2ff78b1e",
   "metadata": {},
   "outputs": [],
   "source": [
    "data_cleaned['Age_Groups'] = pd.cut(x=data_cleaned['YearOfBirth'], bins=[1941, 1942, 1952, 1962, 1972, 1982, 1992, 2003], labels=['80+', '70-79', '60-69', '50-59', '40-49', '30-39', '18-29'])"
   ]
  },
  {
   "cell_type": "code",
   "execution_count": null,
   "id": "a7ea7d3f",
   "metadata": {},
   "outputs": [],
   "source": [
    "data_cleaned[['YearOfBirth', 'Age_Groups']]"
   ]
  },
  {
   "cell_type": "code",
   "execution_count": null,
   "id": "64795b4a",
   "metadata": {},
   "outputs": [],
   "source": [
    "data_cleaned.groupby(['Gender', 'Age_Groups'])['EnergyAll'].mean()\n",
    "data_cleaned.groupby(['Gender', 'Age_Groups'])['EnergyAll'].quantile([0.75])"
   ]
  },
  {
   "cell_type": "code",
   "execution_count": null,
   "id": "71abc644",
   "metadata": {},
   "outputs": [],
   "source": [
    "data_cleaned['Weight']= pd.to_numeric(data_cleaned['Weight'], errors='coerce')\n",
    "data_cleaned['Weight'].describe()\n"
   ]
  },
  {
   "cell_type": "code",
   "execution_count": null,
   "id": "13b65484",
   "metadata": {},
   "outputs": [],
   "source": [
    "weight_by_gender = data_cleaned.groupby('Gender')['Weight'].mean()\n",
    "weight_by_gender"
   ]
  },
  {
   "cell_type": "code",
   "execution_count": null,
   "id": "63f55023",
   "metadata": {},
   "outputs": [],
   "source": [
    "protein_by_gender = data_cleaned.groupby('Gender')['ProteinAll'].mean()\n",
    "protein_by_gender"
   ]
  },
  {
   "cell_type": "code",
   "execution_count": null,
   "id": "8765fe0a",
   "metadata": {},
   "outputs": [],
   "source": [
    "# N of respondents who meet the Reference Intake range for carbohydrates set by EFSA (45-60 E%)\n",
    "count_new = len(data_cleaned[(data_cleaned['CarbohydrateAll']>=195.525) & \n",
    "         (data_cleaned['CarbohydrateAll']<=260.7)])\n",
    "count_new"
   ]
  },
  {
   "cell_type": "code",
   "execution_count": null,
   "id": "1fbe7d5c",
   "metadata": {},
   "outputs": [],
   "source": [
    "# N of respondents who receive equal or more than the AR for proteins set by EFSA (0.66g/kg bw)\n",
    "column = data_cleaned['ProteinAll']/data_cleaned['Weight']\n",
    "count = column[column >= 0.66].count()\n",
    "count"
   ]
  },
  {
   "cell_type": "code",
   "execution_count": null,
   "id": "0c5908f3",
   "metadata": {},
   "outputs": [],
   "source": [
    "# N of respondents who meet the Reference Intake range for total fats set by EFSA (45-60 E%)\n",
    "count_new = len(data_cleaned[(data_cleaned['TotalFatsAll']>=38.62) & \n",
    "         (data_cleaned['TotalFatsAll']<=67.5)])\n",
    "count_new"
   ]
  },
  {
   "cell_type": "code",
   "execution_count": null,
   "id": "74be60f1",
   "metadata": {},
   "outputs": [],
   "source": [
    "#Calculate Nutrient intake per 124 food item, concat all together vertically and save in Table 5\n",
    "mean_energy_intake_for_each_food = data_cleaned.iloc[:, 315:439].mean().reset_index()\n",
    "mean_carb_intake_for_each_food = data_cleaned.iloc[:, 479:604].mean().reset_index()\n",
    "mean_protein_intake_for_each_food = data_cleaned.iloc[:, 643:767].mean().reset_index()\n",
    "mean_totalfat_intake_for_each_food = data_cleaned.iloc[:, 807:931].mean().reset_index()\n",
    "\n",
    "mean_nutrient_intake_for_each_food = pd.concat([mean_energy_intake_for_each_food, mean_carb_intake_for_each_food, mean_protein_intake_for_each_food, mean_totalfat_intake_for_each_food], ignore_index = True)\n",
    "mean_nutrient_intake_for_each_food.to_excel('C:/Users/User/Desktop/Seda/Our Articles/Nutrient Intake Article 24HR/Database/Tables, figures/Table5_Nutrient intake per 124 food item.xlsx')"
   ]
  },
  {
   "cell_type": "code",
   "execution_count": null,
   "id": "4d428b66",
   "metadata": {},
   "outputs": [],
   "source": [
    "data_cleaned['n12101'].describe()"
   ]
  },
  {
   "cell_type": "code",
   "execution_count": null,
   "id": "4e864913",
   "metadata": {},
   "outputs": [],
   "source": []
  }
 ],
 "metadata": {
  "kernelspec": {
   "display_name": "Python 3 (ipykernel)",
   "language": "python",
   "name": "python3"
  },
  "language_info": {
   "codemirror_mode": {
    "name": "ipython",
    "version": 3
   },
   "file_extension": ".py",
   "mimetype": "text/x-python",
   "name": "python",
   "nbconvert_exporter": "python",
   "pygments_lexer": "ipython3",
   "version": "3.11.5"
  }
 },
 "nbformat": 4,
 "nbformat_minor": 5
}
